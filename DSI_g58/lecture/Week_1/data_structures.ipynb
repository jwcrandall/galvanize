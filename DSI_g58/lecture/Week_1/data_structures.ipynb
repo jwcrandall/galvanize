{
 "cells": [
  {
   "cell_type": "markdown",
   "metadata": {},
   "source": [
    "# Lists\n",
    "\n",
    "Python Lists are a flexible container that holds other objects in an ordered arrangment.  **A list is a general purpose, ordered data structure that allows you to change the data it holds (mutable).**"
   ]
  },
  {
   "cell_type": "code",
   "execution_count": 2,
   "metadata": {},
   "outputs": [
    {
     "name": "stdout",
     "output_type": "stream",
     "text": [
      "[\"HitchHiker's Guide\", 'Fluent Python', 'Tensorflow']\n",
      "['lunch', 1.5, True, [\"HitchHiker's Guide to Python\", 'Fluent Python', 'Tensorflow'], 42]\n"
     ]
    }
   ],
   "source": [
    "my_bag_has = ['lunch', 1.50, True, [\"HitchHiker's Guide\", 'Fluent Python', 'Tensorflow'], 42]\n",
    "print(my_bag_has[3])\n",
    "my_bag_has[3][0] += \" to Python\"\n",
    "print(my_bag_has)"
   ]
  },
  {
   "cell_type": "markdown",
   "metadata": {},
   "source": [
    "## Simple list comprehensions\n",
    "A readable, efficient way to perform operations on lists."
   ]
  },
  {
   "cell_type": "code",
   "execution_count": null,
   "metadata": {
    "collapsed": true
   },
   "outputs": [],
   "source": []
  },
  {
   "cell_type": "code",
   "execution_count": 3,
   "metadata": {},
   "outputs": [
    {
     "name": "stdout",
     "output_type": "stream",
     "text": [
      "Here are the resulting arrays\n",
      "          The original array: [-10, -9, -8, -7, -6, -5, -4, -3, -2, -1, 0, 1, 2, 3, 4, 5, 6, 7, 8, 9, 10]\n",
      "              Using for loop: [10, 9, 8, 7, 6, 5, 4, 3, 2, 1, 0, 1, 2, 3, 4, 5, 6, 7, 8, 9, 10]\n",
      "                   Using map: [10, 9, 8, 7, 6, 5, 4, 3, 2, 1, 0, 1, 2, 3, 4, 5, 6, 7, 8, 9, 10]\n",
      "Using the list comprehension: [10, 9, 8, 7, 6, 5, 4, 3, 2, 1, 0, 1, 2, 3, 4, 5, 6, 7, 8, 9, 10]\n"
     ]
    }
   ],
   "source": [
    "# In python 3 this will return a range object, which is a generator\n",
    "a = range(-10,11)\n",
    "\n",
    "# Let's cast it to a list\n",
    "a = list(a)\n",
    "\n",
    "# return the absolute value of each element in the list a\n",
    "\n",
    "# using for loop (try to avoid this)\n",
    "abs_a_for = []\n",
    "for elem in a:\n",
    "    abs_a_for.append(abs(elem))\n",
    "\n",
    "## with functional builtins (map)\n",
    "abs_a_map = list(map(abs,a))\n",
    "\n",
    "## using a list comprehension (very Pythonic and fast)\n",
    "abs_a_lstcomp = [abs(x) for x in a]\n",
    "\n",
    "print(\"Here are the resulting arrays\")\n",
    "print(\"          The original array: {0}\".format(a))\n",
    "print(\"              Using for loop: {0}\".format(abs_a_for))\n",
    "print(\"                   Using map: {0}\".format(abs_a_map))\n",
    "print(\"Using the list comprehension: {0}\".format(abs_a_lstcomp))"
   ]
  },
  {
   "cell_type": "markdown",
   "metadata": {},
   "source": [
    "### So which version is best?\n",
    "Code readability is very imporant in Python, and that's one reason why list comprehensions are \"Pythonic.\"\n",
    "Of course, speed matters too.  So which one is fastest?"
   ]
  },
  {
   "cell_type": "code",
   "execution_count": 4,
   "metadata": {
    "collapsed": true
   },
   "outputs": [],
   "source": [
    "# import the timeit module\n",
    "import timeit\n",
    "number_executions = 1000"
   ]
  },
  {
   "cell_type": "code",
   "execution_count": 5,
   "metadata": {
    "collapsed": true
   },
   "outputs": [],
   "source": [
    "# define a larger list so there is more to time\n",
    "lst = range(-20000, 20001)"
   ]
  },
  {
   "cell_type": "code",
   "execution_count": 8,
   "metadata": {
    "collapsed": true
   },
   "outputs": [],
   "source": [
    "# define absolute value functions\n",
    "\n",
    "def abs_using_for(lst):\n",
    "    \"\"\"Returns a list containing the absolute values of all \n",
    "       elements in lst using a for loop.\n",
    "    \"\"\"\n",
    "    abs_values = []\n",
    "    for val in lst:\n",
    "        abs_values.append(abs(val))\n",
    "    return abs_values\n",
    "\n",
    "def abs_using_map(lst):\n",
    "    \"\"\"Returns a list containing the absolute values of all \n",
    "       elements in lst using map.\n",
    "    \"\"\"\n",
    "    return list(map(abs, lst))\n",
    "\n",
    "def abs_using_lstcomp(lst):\n",
    "    \"\"\"Returns a list containing the absolute values of all \n",
    "       elements in lst using a list comprehension.\n",
    "    \"\"\"\n",
    "    return [abs(val) for val in lst]"
   ]
  },
  {
   "cell_type": "code",
   "execution_count": 9,
   "metadata": {},
   "outputs": [
    {
     "name": "stdout",
     "output_type": "stream",
     "text": [
      "The for function takes 6.51 seconds for 1000 executions.\n"
     ]
    }
   ],
   "source": [
    "time_for = timeit.timeit('abs_using_for(lst)', globals=globals(), number=number_executions) \n",
    "print(\"The for function takes {0:0.2f} seconds for {1} executions.\".format(time_for, number_executions))"
   ]
  },
  {
   "cell_type": "code",
   "execution_count": 10,
   "metadata": {},
   "outputs": [
    {
     "name": "stdout",
     "output_type": "stream",
     "text": [
      "The map function takes 2.64 seconds for 1000 executions.\n"
     ]
    }
   ],
   "source": [
    "time_map = timeit.timeit('abs_using_map(lst)', globals=globals(), number=number_executions) \n",
    "print(\"The map function takes {0:0.2f} seconds for {1} executions.\".format(time_map, number_executions))"
   ]
  },
  {
   "cell_type": "code",
   "execution_count": 11,
   "metadata": {},
   "outputs": [
    {
     "name": "stdout",
     "output_type": "stream",
     "text": [
      "The list comp. takes 4.81 seconds for 1000 executions.\n"
     ]
    }
   ],
   "source": [
    "time_lstcomp = timeit.timeit('abs_using_lstcomp(lst)', globals=globals(), number=number_executions) \n",
    "print(\"The list comp. takes {0:0.2f} seconds for {1} executions.\".format(time_lstcomp, number_executions))"
   ]
  },
  {
   "cell_type": "markdown",
   "metadata": {},
   "source": [
    "**Summary** Functional programming (map, filter, reduce) is often faster, but is not as readable nor as flexible as list comprehensions.  Advice: aim to code in comprehensions (list, dictionary, set) and go functional if speed becomes an issue.  We'll get into Numpy later in the course and its vectorized way of doing computations is *the* fastest way to go."
   ]
  },
  {
   "cell_type": "markdown",
   "metadata": {},
   "source": [
    "## Filtering list comprehensions"
   ]
  },
  {
   "cell_type": "code",
   "execution_count": 12,
   "metadata": {},
   "outputs": [
    {
     "name": "stdout",
     "output_type": "stream",
     "text": [
      "['fee', 'fi', 'foo', 'fum']\n"
     ]
    }
   ],
   "source": [
    "## filter\n",
    "a = ['', 'fee', '', '', '', 'fi', '', '', '', '', 'foo', '', '', '', '', '', 'fum']\n",
    "b = [x for x in a if len(x) > 0]\n",
    "print(b)"
   ]
  },
  {
   "cell_type": "markdown",
   "metadata": {},
   "source": [
    "### <font color='gray'>List Comprehension Questions</font>\n",
    "Write a list comprehension that squares an item in the list below if it's an integer."
   ]
  },
  {
   "cell_type": "code",
   "execution_count": 14,
   "metadata": {},
   "outputs": [
    {
     "name": "stdout",
     "output_type": "stream",
     "text": [
      "[1, 25, 0, 16]\n"
     ]
    }
   ],
   "source": [
    "a_lst = [1, '4', 5, 'a', 0, 4]\n",
    "b = [x**2 for x in a_lst if isinstance(x,int) ]\n",
    "print(b)"
   ]
  },
  {
   "cell_type": "markdown",
   "metadata": {},
   "source": [
    "Write a list comprehension that returns squares of even items but otherwise just the original values, excluding anything other than integer or float values."
   ]
  },
  {
   "cell_type": "code",
   "execution_count": 18,
   "metadata": {},
   "outputs": [
    {
     "ename": "SyntaxError",
     "evalue": "invalid syntax (<ipython-input-18-e3cc2f90ae39>, line 2)",
     "output_type": "error",
     "traceback": [
      "\u001b[0;36m  File \u001b[0;32m\"<ipython-input-18-e3cc2f90ae39>\"\u001b[0;36m, line \u001b[0;32m2\u001b[0m\n\u001b[0;31m    answer = [x**2 if x%2 == 0 else for x in b_lst if (isinstance(x, int) or isinstance(x, float))]\u001b[0m\n\u001b[0m                                      ^\u001b[0m\n\u001b[0;31mSyntaxError\u001b[0m\u001b[0;31m:\u001b[0m invalid syntax\n"
     ]
    }
   ],
   "source": [
    "b_lst = [1, 2, 'a', 3, '!', 4, 5.6]\n",
    "answer = [x**2 if x%2 == 0 else for x in b_lst if (isinstance(x, int) or isinstance(x, float))]\n",
    "print(answer)"
   ]
  },
  {
   "cell_type": "markdown",
   "metadata": {},
   "source": [
    "## Nested list comprehensions\n",
    "You can do them, but do you want to?"
   ]
  },
  {
   "cell_type": "code",
   "execution_count": 19,
   "metadata": {},
   "outputs": [
    {
     "name": "stdout",
     "output_type": "stream",
     "text": [
      "[1, 2, 3, 4, 5, 6, 7, 8]\n"
     ]
    },
    {
     "data": {
      "text/plain": [
       "True"
      ]
     },
     "execution_count": 19,
     "metadata": {},
     "output_type": "execute_result"
    }
   ],
   "source": [
    "nest_lst = [[1,2,3], [4,5,6], [7,8]]\n",
    "\n",
    "flat_lst = []\n",
    "for lst in nest_lst:\n",
    "    for item in lst:\n",
    "        flat_lst.append(item)\n",
    "\n",
    "flat_lst2 = [item for lst in nest_lst for item in lst]\n",
    "print(flat_lst2)\n",
    "\n",
    "flat_lst == flat_lst2"
   ]
  },
  {
   "cell_type": "markdown",
   "metadata": {
    "collapsed": true
   },
   "source": [
    "## Having fun with Zip\n",
    "Useful way to combine same length iterables."
   ]
  },
  {
   "cell_type": "code",
   "execution_count": 20,
   "metadata": {},
   "outputs": [
    {
     "name": "stdout",
     "output_type": "stream",
     "text": [
      "[(1, 'a'), (2, 'b'), (3, 'c')]\n",
      "\n",
      "\n",
      "a1: 1, a2: a\n",
      "a1: 2, a2: b\n",
      "a1: 3, a2: c\n"
     ]
    }
   ],
   "source": [
    "a1 = [1,2,3]\n",
    "a2 = ['a','b','c']\n",
    "\n",
    "print(list(zip(a1,a2)))\n",
    "print(\"\\n\")\n",
    "\n",
    "for v1, v2 in zip(a1, a2):\n",
    "    print(\"a1: {0}, a2: {1}\".format(v1, v2))"
   ]
  },
  {
   "cell_type": "markdown",
   "metadata": {},
   "source": [
    "### Tuples\n",
    "\n",
    "Tuples are a lightweight (meaning relatively small in memory) immutable brother/sister of the `list`. Tuples are immutable, ordered collections.  Similar to lists, tuples are declared by passing an iterable to the `tuple()` constructor, with or without the syntactic parenthesis (this works because Python automatically interprets comma separated things that aren't specifically specified otherwise as tuples).  **If you want an ordered, lightweight data structure to hold unchanging data, use tuples.**"
   ]
  },
  {
   "cell_type": "code",
   "execution_count": 21,
   "metadata": {},
   "outputs": [
    {
     "name": "stdout",
     "output_type": "stream",
     "text": [
      "<class 'tuple'>\n"
     ]
    },
    {
     "data": {
      "text/plain": [
       "(1, 2)"
      ]
     },
     "execution_count": 21,
     "metadata": {},
     "output_type": "execute_result"
    }
   ],
   "source": [
    "my_first_tuple = tuple([1, 2])\n",
    "print(type(my_first_tuple))\n",
    "my_first_tuple"
   ]
  },
  {
   "cell_type": "code",
   "execution_count": 22,
   "metadata": {},
   "outputs": [
    {
     "name": "stdout",
     "output_type": "stream",
     "text": [
      "<class 'tuple'>\n"
     ]
    },
    {
     "data": {
      "text/plain": [
       "(1, 2)"
      ]
     },
     "execution_count": 22,
     "metadata": {},
     "output_type": "execute_result"
    }
   ],
   "source": [
    "my_second_tuple = (1, 2)\n",
    "print(type(my_second_tuple))\n",
    "my_second_tuple"
   ]
  },
  {
   "cell_type": "code",
   "execution_count": 23,
   "metadata": {},
   "outputs": [
    {
     "name": "stdout",
     "output_type": "stream",
     "text": [
      "<class 'tuple'>\n"
     ]
    },
    {
     "data": {
      "text/plain": [
       "(1, 2)"
      ]
     },
     "execution_count": 23,
     "metadata": {},
     "output_type": "execute_result"
    }
   ],
   "source": [
    "my_third_tuple = 1, 2\n",
    "print(type(my_third_tuple))\n",
    "my_third_tuple"
   ]
  },
  {
   "cell_type": "markdown",
   "metadata": {},
   "source": [
    "### <font color='gray'>Tuple Questions</font>\n",
    "\n",
    "1. Make a tuple called `my_tuple` with the values `1` and `\"hello\"` in it. \n",
    "    1. How do you access the `1` in `my_tuple`?\n",
    "    2. How do you access the `\"hello\"` in `my_tuple`?\n",
    "2. Can you change the `\"hello\"` entry in `my_tuple` to `\"hello there\"`? Why or why not?"
   ]
  },
  {
   "cell_type": "code",
   "execution_count": 26,
   "metadata": {},
   "outputs": [
    {
     "data": {
      "text/plain": [
       "(1, 'hello')"
      ]
     },
     "execution_count": 26,
     "metadata": {},
     "output_type": "execute_result"
    }
   ],
   "source": [
    "my_tuple = (1, \"hello\")\n",
    "my_tuple"
   ]
  },
  {
   "cell_type": "code",
   "execution_count": 27,
   "metadata": {},
   "outputs": [
    {
     "name": "stdout",
     "output_type": "stream",
     "text": [
      "1\n",
      "hello\n"
     ]
    }
   ],
   "source": [
    "print(my_tuple[0])\n",
    "print(my_tuple[1])"
   ]
  },
  {
   "cell_type": "code",
   "execution_count": null,
   "metadata": {
    "collapsed": true
   },
   "outputs": [],
   "source": []
  },
  {
   "cell_type": "markdown",
   "metadata": {},
   "source": [
    "### Dictionaries\n",
    "\n",
    "So far, the only collections that we have talked about are ordered.  These are great as containers if there is some intrinsic order to the data that we're storing. However, there are plenty of times when we don't care about order, either because it simply doesn't matter or because the data are associated with each other in a different way.  Dictionaries are useful because they link data (the value) to a key for fast look-up.  **When you want to link data or any object to some entity, use a dictionary.**"
   ]
  },
  {
   "cell_type": "code",
   "execution_count": 28,
   "metadata": {},
   "outputs": [
    {
     "data": {
      "text/plain": [
       "{'Colorado': 'Denver', 'Georgia': 'Atlanta', 'Indiana': 'Indianapolis'}"
      ]
     },
     "execution_count": 28,
     "metadata": {},
     "output_type": "execute_result"
    }
   ],
   "source": [
    "states_caps_dict = {'Georgia': 'Atlanta', 'Colorado': 'Denver', 'Indiana': 'Indianapolis'}\n",
    "states_caps_dict"
   ]
  },
  {
   "cell_type": "code",
   "execution_count": 29,
   "metadata": {},
   "outputs": [
    {
     "ename": "KeyError",
     "evalue": "'Washington'",
     "output_type": "error",
     "traceback": [
      "\u001b[0;31m---------------------------------------------------------------------------\u001b[0m",
      "\u001b[0;31mKeyError\u001b[0m                                  Traceback (most recent call last)",
      "\u001b[0;32m<ipython-input-29-a40a1682958c>\u001b[0m in \u001b[0;36m<module>\u001b[0;34m()\u001b[0m\n\u001b[1;32m      1\u001b[0m \u001b[0;31m# for a standard dictionary, asking for a key that hasn't been assigned previously\u001b[0m\u001b[0;34m\u001b[0m\u001b[0;34m\u001b[0m\u001b[0m\n\u001b[0;32m----> 2\u001b[0;31m \u001b[0mstates_caps_dict\u001b[0m\u001b[0;34m[\u001b[0m\u001b[0;34m'Washington'\u001b[0m\u001b[0;34m]\u001b[0m\u001b[0;34m\u001b[0m\u001b[0m\n\u001b[0m",
      "\u001b[0;31mKeyError\u001b[0m: 'Washington'"
     ]
    }
   ],
   "source": [
    "# for a standard dictionary, asking for a key that hasn't been assigned previously\n",
    "states_caps_dict['Washington']"
   ]
  },
  {
   "cell_type": "code",
   "execution_count": 30,
   "metadata": {},
   "outputs": [
    {
     "data": {
      "text/plain": [
       "'State not found'"
      ]
     },
     "execution_count": 30,
     "metadata": {},
     "output_type": "execute_result"
    }
   ],
   "source": [
    "# .get method allows a default value to be supplied\n",
    "states_caps_dict.get('Washington', 'State not found')"
   ]
  },
  {
   "cell_type": "code",
   "execution_count": 31,
   "metadata": {},
   "outputs": [
    {
     "data": {
      "text/plain": [
       "{'Colorado': 'Denver',\n",
       " 'Georgia': 'Atlanta',\n",
       " 'Indiana': 'Indianapolis',\n",
       " 'Washington': 'Olympia'}"
      ]
     },
     "execution_count": 31,
     "metadata": {},
     "output_type": "execute_result"
    }
   ],
   "source": [
    "# but we could have assigned it:\n",
    "states_caps_dict['Washington'] = 'Olympia'\n",
    "states_caps_dict"
   ]
  },
  {
   "cell_type": "code",
   "execution_count": 33,
   "metadata": {},
   "outputs": [
    {
     "name": "stdout",
     "output_type": "stream",
     "text": [
      "defaultdict(<function <lambda> at 0x112ca6950>, {'Georgia': 'Atlanta', 'Colorado': 'Denver', 'Indiana': 'Indianapolis', 'Washington': 'Olympia'})\n"
     ]
    },
    {
     "data": {
      "text/plain": [
       "'Sbllasdjfa'"
      ]
     },
     "execution_count": 33,
     "metadata": {},
     "output_type": "execute_result"
    }
   ],
   "source": [
    "# default dictionaries allow a default value to be set\n",
    "from collections import defaultdict\n",
    "states_caps = defaultdict(lambda: 'State not found')\n",
    "states_caps.update(states_caps_dict)\n",
    "print(states_caps)\n",
    "states_caps['Oregon']\n",
    "states_caps."
   ]
  },
  {
   "cell_type": "markdown",
   "metadata": {},
   "source": [
    "### <font color='gray'>Dictionary Questions</font>\n",
    "\n",
    "1. Make a dictionary called `restaurant_types` that has the following associated `key-value` pairs: `('Red Lobster', 'Seafood')`, `('Burger King', 'Fast Food')`, `('Safeway', 'Grocery Store')`.\n",
    "\n",
    "2. How do you find the resturant type for `'Burger King'`?\n",
    "3. What if you don't know whether or not `'Outback Steakhouse'` is in the `resturant_types` dictionary - how would you go about trying to get it's resturant type and make sure that you won't get an error?"
   ]
  },
  {
   "cell_type": "code",
   "execution_count": 36,
   "metadata": {},
   "outputs": [],
   "source": [
    "restaurant_types = dict([('Red Lobster', 'Seafood'), ('Burger King', 'Fast Food'), ('Safeway', 'Grocery Store')])"
   ]
  },
  {
   "cell_type": "code",
   "execution_count": 37,
   "metadata": {},
   "outputs": [
    {
     "data": {
      "text/plain": [
       "'Fast Food'"
      ]
     },
     "execution_count": 37,
     "metadata": {},
     "output_type": "execute_result"
    }
   ],
   "source": [
    "restaurant_types['Burger King']\n"
   ]
  },
  {
   "cell_type": "code",
   "execution_count": null,
   "metadata": {
    "collapsed": true
   },
   "outputs": [],
   "source": []
  },
  {
   "cell_type": "markdown",
   "metadata": {},
   "source": [
    "## Sets\n",
    "\n",
    "A set combines some of the features of both the `list` and the `dictionary`. A set is defined as an unordered, mutable collection of unique items. This means that a `set` is a data structure where you can store items, without caring about their order and knowing that there will be at most one of them in the structure.  Sets use a hash to link each item to membership or not.  **If you are going to check membership in a data structure, use a set.**"
   ]
  },
  {
   "cell_type": "code",
   "execution_count": 38,
   "metadata": {},
   "outputs": [
    {
     "name": "stdout",
     "output_type": "stream",
     "text": [
      "<class 'set'>\n",
      "<class 'set'>\n",
      "<class 'dict'>\n"
     ]
    }
   ],
   "source": [
    "# how to initialize\n",
    "my_set = set([1, 2, 3])\n",
    "my_other_set = {1, 2, 3}\n",
    "my_empty_set = {}\n",
    "print(type(my_set))\n",
    "print(type(my_other_set))\n",
    "print(type(my_empty_set))"
   ]
  },
  {
   "cell_type": "code",
   "execution_count": 39,
   "metadata": {},
   "outputs": [
    {
     "name": "stdout",
     "output_type": "stream",
     "text": [
      "<class 'set'>\n"
     ]
    }
   ],
   "source": [
    "empty_set_2 = set() # how to make an empty set\n",
    "print(type(empty_set_2))"
   ]
  },
  {
   "cell_type": "code",
   "execution_count": 40,
   "metadata": {},
   "outputs": [
    {
     "data": {
      "text/plain": [
       "{1, 2, 3, 5, 6, 7}"
      ]
     },
     "execution_count": 40,
     "metadata": {},
     "output_type": "execute_result"
    }
   ],
   "source": [
    "my_set = {1, 2, 3}\n",
    "my_other_set = {5, 6, 7}\n",
    "my_set.union(my_other_set)"
   ]
  },
  {
   "cell_type": "code",
   "execution_count": 42,
   "metadata": {},
   "outputs": [
    {
     "data": {
      "text/plain": [
       "{1, 2, 3, 4}"
      ]
     },
     "execution_count": 42,
     "metadata": {},
     "output_type": "execute_result"
    }
   ],
   "source": [
    "my_set.add(4)\n",
    "my_set"
   ]
  },
  {
   "cell_type": "code",
   "execution_count": 43,
   "metadata": {},
   "outputs": [
    {
     "data": {
      "text/plain": [
       "{1, 2, 3, 4, 5, 6, 7}"
      ]
     },
     "execution_count": 43,
     "metadata": {},
     "output_type": "execute_result"
    }
   ],
   "source": [
    "my_set.update(my_other_set)\n",
    "my_set"
   ]
  },
  {
   "cell_type": "code",
   "execution_count": 44,
   "metadata": {},
   "outputs": [
    {
     "data": {
      "text/plain": [
       "{1, 2, 3, 4, 6, 7}"
      ]
     },
     "execution_count": 44,
     "metadata": {},
     "output_type": "execute_result"
    }
   ],
   "source": [
    "my_set.remove(5)\n",
    "my_set"
   ]
  },
  {
   "cell_type": "code",
   "execution_count": 45,
   "metadata": {},
   "outputs": [
    {
     "data": {
      "text/plain": [
       "{6, 7}"
      ]
     },
     "execution_count": 45,
     "metadata": {},
     "output_type": "execute_result"
    }
   ],
   "source": [
    "my_set.intersection(my_other_set)"
   ]
  },
  {
   "cell_type": "markdown",
   "metadata": {},
   "source": [
    "**Set Questions**\n",
    "\n",
    "1. Make a set called `first_set` with the values 1-10 and another with the values 5-15 called `second_set`.\n",
    "2. Add the value 11 to `first_set`.\n",
    "3. Add the string `'hello'` to `second_set`.\n",
    "4. Using one of the methods discussed above, find what elements `first_set` and `second_set` have in common."
   ]
  },
  {
   "cell_type": "code",
   "execution_count": 47,
   "metadata": {},
   "outputs": [
    {
     "name": "stdout",
     "output_type": "stream",
     "text": [
      "{1, 2, 3, 4, 5, 6, 7, 8, 9, 10}\n",
      "{6, 7, 8, 9, 10, 11, 12, 13, 14, 15}\n"
     ]
    }
   ],
   "source": [
    "first_set, second_set = set(range(1,11)), set(range(6,16))\n",
    "print(first_set)\n",
    "print(second_set)"
   ]
  },
  {
   "cell_type": "code",
   "execution_count": 48,
   "metadata": {},
   "outputs": [
    {
     "name": "stdout",
     "output_type": "stream",
     "text": [
      "{1, 2, 3, 4, 5, 6, 7, 8, 9, 10, 11}\n",
      "{6, 7, 8, 9, 10, 11, 12, 13, 14, 15, 'hello'}\n"
     ]
    }
   ],
   "source": [
    "first_set.add(11)\n",
    "second_set.add('hello')\n",
    "print(first_set)\n",
    "print(second_set)"
   ]
  },
  {
   "cell_type": "code",
   "execution_count": 49,
   "metadata": {},
   "outputs": [
    {
     "data": {
      "text/plain": [
       "{6, 7, 8, 9, 10, 11}"
      ]
     },
     "execution_count": 49,
     "metadata": {},
     "output_type": "execute_result"
    }
   ],
   "source": [
    "first_set.intersection(second_set)"
   ]
  },
  {
   "cell_type": "code",
   "execution_count": null,
   "metadata": {
    "collapsed": true
   },
   "outputs": [],
   "source": []
  }
 ],
 "metadata": {
  "kernelspec": {
   "display_name": "Python 3",
   "language": "python",
   "name": "python3"
  },
  "language_info": {
   "codemirror_mode": {
    "name": "ipython",
    "version": 3
   },
   "file_extension": ".py",
   "mimetype": "text/x-python",
   "name": "python",
   "nbconvert_exporter": "python",
   "pygments_lexer": "ipython3",
   "version": "3.6.3"
  }
 },
 "nbformat": 4,
 "nbformat_minor": 1
}
