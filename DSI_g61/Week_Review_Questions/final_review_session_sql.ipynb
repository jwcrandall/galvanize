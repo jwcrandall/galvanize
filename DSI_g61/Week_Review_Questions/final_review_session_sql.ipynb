{
 "cells": [
  {
   "cell_type": "markdown",
   "metadata": {},
   "source": [
    "# 1. SQL: readychef"
   ]
  },
  {
   "cell_type": "markdown",
   "metadata": {},
   "source": [
    "If you still have the readychef database, you can access it by entering `psql readychef` in your terminal."
   ]
  },
  {
   "cell_type": "markdown",
   "metadata": {},
   "source": [
    "If the above command fails, you'll have to create the database and load it with the following commands.\n",
    "Here, `$` represents the terminal shell and `=#` represents the postgres shell.\n",
    "```\n",
    "$ psql\n",
    "=# CREATE DATABASE readychef;\n",
    "=# \\q\n",
    "$ psql -f path/to/readychef.sql readychef\n",
    "$ psql readychef\n",
    "=# \\d\n",
    "           List of relations\n",
    " Schema |   Name    | Type  |  Owner   \n",
    "--------+-----------+-------+----------\n",
    " public | events    | table | postgres\n",
    " public | meals     | table | postgres\n",
    " public | referrals | table | postgres\n",
    " public | users     | table | postgres\n",
    " public | visits    | table | postgres\n",
    "(5 rows)\n",
    "\n",
    "\n",
    "```"
   ]
  },
  {
   "cell_type": "markdown",
   "metadata": {},
   "source": [
    "```\n",
    "readychef=# SELECT * FROM events LIMIT 10;\n",
    "     dt     | userid | meal_id | event  \n",
    "------------+--------+---------+--------\n",
    " 2013-01-01 |      3 |      18 | bought\n",
    " 2013-01-01 |      7 |       1 | like\n",
    " 2013-01-01 |     10 |      29 | bought\n",
    " 2013-01-01 |     11 |      19 | share\n",
    " 2013-01-01 |     15 |      33 | like\n",
    " 2013-01-01 |     18 |       4 | share\n",
    " 2013-01-01 |     18 |      40 | bought\n",
    " 2013-01-01 |     21 |      10 | share\n",
    " 2013-01-01 |     21 |       4 | like\n",
    " 2013-01-01 |     22 |      23 | bought\n",
    "```"
   ]
  },
  {
   "cell_type": "markdown",
   "metadata": {},
   "source": [
    "\n",
    "```\n",
    "readychef=# SELECT * FROM meals LIMIT 10;\n",
    " meal_id |  type   |     dt     | price \n",
    "---------+---------+------------+-------\n",
    "       1 | french  | 2013-01-01 |    10\n",
    "       2 | chinese | 2013-01-01 |    13\n",
    "       3 | mexican | 2013-01-02 |     9\n",
    "       4 | italian | 2013-01-03 |     9\n",
    "       5 | chinese | 2013-01-03 |    12\n",
    "       6 | italian | 2013-01-03 |     9\n",
    "       7 | italian | 2013-01-03 |    10\n",
    "       8 | french  | 2013-01-03 |    14\n",
    "       9 | italian | 2013-01-03 |    13\n",
    "      10 | french  | 2013-01-03 |     7\n",
    "(10 rows)\n",
    "```"
   ]
  },
  {
   "cell_type": "markdown",
   "metadata": {},
   "source": [
    "## i: total meals bought by each user (including users who bought zero meals)"
   ]
  },
  {
   "cell_type": "raw",
   "metadata": {},
   "source": [
    "## this query gets total meals for every user\n",
    "## but only for users who bought at least 1 meal\n",
    "\n",
    "SELECT userid, COUNT(*) as ct \n",
    "FROM events \n",
    "WHERE event='bought' \n",
    "GROUP BY userid"
   ]
  },
  {
   "cell_type": "raw",
   "metadata": {},
   "source": [
    "## to get the 0-meal users, we LEFT JOIN the \n",
    "## user column from \"users\" with the previous\n",
    "## table, then use COALESCE to convert the\n",
    "## NULL values to 0\n",
    "\n",
    "SELECT u.userid, COALESCE(c.ct,0) AS total_meals_bought FROM users AS u\n",
    "LEFT JOIN (\n",
    "        SELECT userid, COUNT(*) as ct \n",
    "        FROM events \n",
    "        WHERE event='bought' \n",
    "        GROUP BY userid ) as c \n",
    "        ON u.userid = c.userid\n",
    "ORDER BY u.userid\n",
    "LIMIT 20;\n",
    "\n"
   ]
  },
  {
   "cell_type": "markdown",
   "metadata": {},
   "source": [
    "### ii: Total money spent by each user"
   ]
  },
  {
   "cell_type": "raw",
   "metadata": {},
   "source": [
    "SELECT u.userid, COALESCE(s.spent,0) AS total_spent FROM users AS u\n",
    "LEFT JOIN (\n",
    "        SELECT userid, SUM(m.price) as spent \n",
    "        FROM events AS e\n",
    "        JOIN meals AS m\n",
    "         ON e.meal_id = m.meal_id\n",
    "        WHERE event='bought' \n",
    "        GROUP BY userid ) as s\n",
    "        ON u.userid = s.userid\n",
    "ORDER BY total_spent desc\n",
    "LIMIT 20;\n"
   ]
  },
  {
   "cell_type": "markdown",
   "metadata": {},
   "source": [
    "### iii: Total visits from each user"
   ]
  },
  {
   "cell_type": "raw",
   "metadata": {},
   "source": [
    "SELECT u.userid, COALESCE(v.ct,0) AS total_visits FROM users AS u\n",
    "LEFT JOIN (\n",
    "        SELECT userid, COUNT(*) as ct \n",
    "        FROM visits \n",
    "        GROUP BY userid ) as v \n",
    "        ON u.userid = v.userid\n",
    "ORDER BY u.userid\n",
    "LIMIT 20;"
   ]
  },
  {
   "cell_type": "markdown",
   "metadata": {},
   "source": [
    "### iv: Average visits per month from each user\n",
    "\n",
    "(hint: http://www.sqlines.com/postgresql/how-to/datediff )"
   ]
  },
  {
   "cell_type": "raw",
   "metadata": {},
   "source": [
    "WITH user_life AS\n",
    "(\n",
    "    SELECT userid,\n",
    "      ((DATE_PART('year', a.max_dt) - DATE_PART('year', a.min_dt)) * 12 +\n",
    "      (DATE_PART('month', a.max_dt) - DATE_PART('month', a.min_dt)) + 1) AS user_months\n",
    "     FROM\n",
    "        (\n",
    "        SELECT userid, MIN(dt) as min_dt, MAX(dt) AS max_dt \n",
    "        FROM visits GROUP BY userid\n",
    "        ) AS a\n",
    "),\n",
    "total AS\n",
    "(\n",
    "    SELECT u.userid, COALESCE(v.ct,0) AS total_visits FROM users AS u\n",
    "    LEFT JOIN (\n",
    "            SELECT userid, COUNT(*) as ct \n",
    "            FROM visits \n",
    "            GROUP BY userid ) as v \n",
    "         ON u.userid = v.userid\n",
    ")\n",
    "SELECT uu.userid, ROUND(tt.total_visits/uu.user_months :: numeric, 2)\n",
    "FROM user_life AS uu\n",
    "JOIN total AS tt\n",
    "ON uu.userid = tt.userid\n",
    "LIMIT 10;"
   ]
  }
 ],
 "metadata": {
  "anaconda-cloud": {},
  "kernelspec": {
   "display_name": "Python 2",
   "language": "python",
   "name": "python2"
  },
  "language_info": {
   "codemirror_mode": {
    "name": "ipython",
    "version": 2
   },
   "file_extension": ".py",
   "mimetype": "text/x-python",
   "name": "python",
   "nbconvert_exporter": "python",
   "pygments_lexer": "ipython2",
   "version": "2.7.14"
  }
 },
 "nbformat": 4,
 "nbformat_minor": 1
}
