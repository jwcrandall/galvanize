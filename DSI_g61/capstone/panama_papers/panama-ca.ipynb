{
 "cells": [
  {
   "cell_type": "code",
   "execution_count": 1,
   "metadata": {
    "collapsed": true
   },
   "outputs": [],
   "source": [
    "import networkx as nx\n",
    "import pandas as pd\n",
    "import numpy as np\n",
    "import matplotlib.pyplot as plt\n",
    "%matplotlib inline\n",
    "\n",
    "# https://www.occrp.org/en/panamapapers/database\n"
   ]
  },
  {
   "cell_type": "code",
   "execution_count": null,
   "metadata": {
    "collapsed": true
   },
   "outputs": [],
   "source": [
    "# panama = nx.Graph()\n",
    "# with open(\"csv_panama_papers.2018-02-14\") as infile:\n",
    "#     data = csv.DictReader(infile)\n",
    "#     panama.add_edges_from((link[\"nodes_1\"], link[\"nodes_2\"])\n",
    "#                          for link in data\n",
    "#                          if link[\"rel_type\"].lower().startwith(EDGES))"
   ]
  },
  {
   "cell_type": "code",
   "execution_count": 2,
   "metadata": {},
   "outputs": [
    {
     "name": "stderr",
     "output_type": "stream",
     "text": [
      "/Applications/anaconda/lib/python3.6/site-packages/IPython/core/interactiveshell.py:2698: DtypeWarning: Columns (4,5) have mixed types. Specify dtype option on import or set low_memory=False.\n",
      "  interactivity=interactivity, compiler=compiler, result=result)\n"
     ]
    }
   ],
   "source": [
    "# Read the edge list and convert it to network\n",
    "edges = pd.read_csv('data/csv_panama_papers_2018-02-14/panama_papers_edges.csv')"
   ]
  },
  {
   "cell_type": "code",
   "execution_count": 3,
   "metadata": {
    "collapsed": true
   },
   "outputs": [],
   "source": [
    "edges = edges[edges[\"TYPE\"] != \"registrated address\"]\n",
    "F = nx.from_pandas_dataframe(edges, \"START_ID\", \"END_ID\")"
   ]
  },
  {
   "cell_type": "code",
   "execution_count": 4,
   "metadata": {
    "scrolled": true
   },
   "outputs": [
    {
     "name": "stderr",
     "output_type": "stream",
     "text": [
      "/Applications/anaconda/lib/python3.6/site-packages/IPython/core/interactiveshell.py:2698: DtypeWarning: Columns (16) have mixed types. Specify dtype option on import or set low_memory=False.\n",
      "  interactivity=interactivity, compiler=compiler, result=result)\n"
     ]
    }
   ],
   "source": [
    "#read node lists\n",
    "officers = pd.read_csv(\"data/csv_panama_papers_2018-02-14/panama_papers_nodes_officer.csv\", index_col = \"node_id\")\n",
    "intermediaries = pd.read_csv(\"data/csv_panama_papers_2018-02-14/panama_papers_nodes_intermediary.csv\", index_col = \"node_id\")\n",
    "entities = pd.read_csv(\"data/csv_panama_papers_2018-02-14/panama_papers_nodes_entity.csv\", index_col = \"node_id\")"
   ]
  },
  {
   "cell_type": "code",
   "execution_count": null,
   "metadata": {
    "collapsed": true
   },
   "outputs": [],
   "source": [
    "# edges.head(3)"
   ]
  },
  {
   "cell_type": "code",
   "execution_count": null,
   "metadata": {
    "collapsed": true
   },
   "outputs": [],
   "source": [
    "# officers.head(3)"
   ]
  },
  {
   "cell_type": "code",
   "execution_count": null,
   "metadata": {
    "collapsed": true
   },
   "outputs": [],
   "source": [
    "# intermediaries.head(3)"
   ]
  },
  {
   "cell_type": "code",
   "execution_count": null,
   "metadata": {
    "collapsed": true
   },
   "outputs": [],
   "source": [
    "entities.head(20)\n",
    "# entities['service_provider'].unique()"
   ]
  },
  {
   "cell_type": "code",
   "execution_count": null,
   "metadata": {
    "collapsed": true
   },
   "outputs": [],
   "source": [
    "# status = intermediaries['status'].value_counts()\n",
    "# status"
   ]
  },
  {
   "cell_type": "code",
   "execution_count": null,
   "metadata": {
    "collapsed": true,
    "scrolled": true
   },
   "outputs": [],
   "source": [
    "# stat = 'ACTIVE'\n",
    "# stat_country= 'Saudi Arabia'\n",
    "\n",
    "# mask1 = intermediaries['status'].str.contains(stat)\n",
    "# mask2 = intermediaries['countries'].str.contains(stat_country)\n",
    "\n",
    "# stage = intermediaries[mask1 & mask2]\n",
    "# stage"
   ]
  },
  {
   "cell_type": "code",
   "execution_count": null,
   "metadata": {
    "collapsed": true
   },
   "outputs": [],
   "source": [
    "# status_filtered = intermediaries[intermediaries['status'] == 'DELINQUENT']\n",
    "# status_filtered.head(3)"
   ]
  },
  {
   "cell_type": "code",
   "execution_count": null,
   "metadata": {
    "collapsed": true
   },
   "outputs": [],
   "source": [
    "# C = entities['countries'].value_counts()\n",
    "# C[:25].plot(kind='bar')\n",
    "\n"
   ]
  },
  {
   "cell_type": "code",
   "execution_count": null,
   "metadata": {},
   "outputs": [],
   "source": [
    "# import matplotlib.pyplot as plt\n",
    "# import seaborn as sns\n",
    "# plt.style.use(\"fivethirtyeight\")\n",
    "\n",
    "# f, axarr = plt.subplots(2, 2, figsize=(12, 11))\n",
    "# f.subplots_adjust(hspace=0.75)\n",
    "# plt.suptitle('Cash-Stash Entity Breakdown', fontsize=18)\n",
    "\n",
    "# entities['sourceID'].value_counts().plot.bar(ax=axarr[0][0])\n",
    "# axarr[0][0].set_title(\"Data Source\")\n",
    "\n",
    "# entities['service_provider'].value_counts(dropna=False).plot.bar(ax=axarr[0][1])\n",
    "# axarr[0][1].set_title(\"Money Manager\")\n",
    "\n",
    "# entities['jurisdiction_description'].value_counts().head(10).plot.bar(ax=axarr[1][0])\n",
    "# axarr[1][0].set_title(\"Jurisdiction (n=10)\")\n",
    "\n",
    "# entities['countries'].value_counts(dropna=False).head(10).plot.bar(ax=axarr[1][1])\n",
    "# axarr[1][1].set_title(\"Home Country (n=10)\")"
   ]
  },
  {
   "cell_type": "code",
   "execution_count": null,
   "metadata": {
    "collapsed": true
   },
   "outputs": [],
   "source": [
    "# Sa = all_nodes.loc[all_nodes['countries']=='Saudi Arabia'].copy()\n",
    "# Sa['service_provider'].value_counts().plot(kind='pie',autopct='%1.0f%%')"
   ]
  },
  {
   "cell_type": "code",
   "execution_count": 25,
   "metadata": {
    "collapsed": true
   },
   "outputs": [],
   "source": [
    "# Combine the node lists into one dataframe\n",
    "officers[\"type\"] = \"officer\"\n",
    "intermediaries[\"type\"] = \"intermediary\"\n",
    "entities[\"type\"] = \"entity\"\n",
    "\n",
    "all_nodes = pd.concat([officers, intermediaries, entities])"
   ]
  },
  {
   "cell_type": "code",
   "execution_count": 26,
   "metadata": {},
   "outputs": [
    {
     "data": {
      "text/html": [
       "<div>\n",
       "<style scoped>\n",
       "    .dataframe tbody tr th:only-of-type {\n",
       "        vertical-align: middle;\n",
       "    }\n",
       "\n",
       "    .dataframe tbody tr th {\n",
       "        vertical-align: top;\n",
       "    }\n",
       "\n",
       "    .dataframe thead th {\n",
       "        text-align: right;\n",
       "    }\n",
       "</style>\n",
       "<table border=\"1\" class=\"dataframe\">\n",
       "  <thead>\n",
       "    <tr style=\"text-align: right;\">\n",
       "      <th></th>\n",
       "      <th>closed_date</th>\n",
       "      <th>company_type</th>\n",
       "      <th>countries</th>\n",
       "      <th>country_codes</th>\n",
       "      <th>ibcRUC</th>\n",
       "      <th>inactivation_date</th>\n",
       "      <th>incorporation_date</th>\n",
       "      <th>jurisdiction</th>\n",
       "      <th>jurisdiction_description</th>\n",
       "      <th>name</th>\n",
       "      <th>note</th>\n",
       "      <th>service_provider</th>\n",
       "      <th>sourceID</th>\n",
       "      <th>status</th>\n",
       "      <th>struck_off_date</th>\n",
       "      <th>type</th>\n",
       "      <th>valid_until</th>\n",
       "    </tr>\n",
       "    <tr>\n",
       "      <th>node_id</th>\n",
       "      <th></th>\n",
       "      <th></th>\n",
       "      <th></th>\n",
       "      <th></th>\n",
       "      <th></th>\n",
       "      <th></th>\n",
       "      <th></th>\n",
       "      <th></th>\n",
       "      <th></th>\n",
       "      <th></th>\n",
       "      <th></th>\n",
       "      <th></th>\n",
       "      <th></th>\n",
       "      <th></th>\n",
       "      <th></th>\n",
       "      <th></th>\n",
       "      <th></th>\n",
       "    </tr>\n",
       "  </thead>\n",
       "  <tbody>\n",
       "    <tr>\n",
       "      <th>12000001</th>\n",
       "      <td>NaN</td>\n",
       "      <td>NaN</td>\n",
       "      <td>South Korea</td>\n",
       "      <td>KOR</td>\n",
       "      <td>NaN</td>\n",
       "      <td>NaN</td>\n",
       "      <td>NaN</td>\n",
       "      <td>NaN</td>\n",
       "      <td>NaN</td>\n",
       "      <td>KIM SOO IN</td>\n",
       "      <td>NaN</td>\n",
       "      <td>NaN</td>\n",
       "      <td>Panama Papers</td>\n",
       "      <td>NaN</td>\n",
       "      <td>NaN</td>\n",
       "      <td>officer</td>\n",
       "      <td>The Panama Papers data is current through 2015</td>\n",
       "    </tr>\n",
       "    <tr>\n",
       "      <th>12000002</th>\n",
       "      <td>NaN</td>\n",
       "      <td>NaN</td>\n",
       "      <td>China</td>\n",
       "      <td>CHN</td>\n",
       "      <td>NaN</td>\n",
       "      <td>NaN</td>\n",
       "      <td>NaN</td>\n",
       "      <td>NaN</td>\n",
       "      <td>NaN</td>\n",
       "      <td>Tian Yuan</td>\n",
       "      <td>NaN</td>\n",
       "      <td>NaN</td>\n",
       "      <td>Panama Papers</td>\n",
       "      <td>NaN</td>\n",
       "      <td>NaN</td>\n",
       "      <td>officer</td>\n",
       "      <td>The Panama Papers data is current through 2015</td>\n",
       "    </tr>\n",
       "    <tr>\n",
       "      <th>12000003</th>\n",
       "      <td>NaN</td>\n",
       "      <td>NaN</td>\n",
       "      <td>Australia</td>\n",
       "      <td>AUS</td>\n",
       "      <td>NaN</td>\n",
       "      <td>NaN</td>\n",
       "      <td>NaN</td>\n",
       "      <td>NaN</td>\n",
       "      <td>NaN</td>\n",
       "      <td>GREGORY JOHN SOLOMON</td>\n",
       "      <td>NaN</td>\n",
       "      <td>NaN</td>\n",
       "      <td>Panama Papers</td>\n",
       "      <td>NaN</td>\n",
       "      <td>NaN</td>\n",
       "      <td>officer</td>\n",
       "      <td>The Panama Papers data is current through 2015</td>\n",
       "    </tr>\n",
       "  </tbody>\n",
       "</table>\n",
       "</div>"
      ],
      "text/plain": [
       "          closed_date  company_type    countries country_codes ibcRUC  \\\n",
       "node_id                                                                 \n",
       "12000001          NaN           NaN  South Korea           KOR    NaN   \n",
       "12000002          NaN           NaN        China           CHN    NaN   \n",
       "12000003          NaN           NaN    Australia           AUS    NaN   \n",
       "\n",
       "         inactivation_date incorporation_date jurisdiction  \\\n",
       "node_id                                                      \n",
       "12000001               NaN                NaN          NaN   \n",
       "12000002               NaN                NaN          NaN   \n",
       "12000003               NaN                NaN          NaN   \n",
       "\n",
       "         jurisdiction_description                  name note service_provider  \\\n",
       "node_id                                                                         \n",
       "12000001                      NaN            KIM SOO IN  NaN              NaN   \n",
       "12000002                      NaN             Tian Yuan  NaN              NaN   \n",
       "12000003                      NaN  GREGORY JOHN SOLOMON  NaN              NaN   \n",
       "\n",
       "               sourceID status struck_off_date     type  \\\n",
       "node_id                                                   \n",
       "12000001  Panama Papers    NaN             NaN  officer   \n",
       "12000002  Panama Papers    NaN             NaN  officer   \n",
       "12000003  Panama Papers    NaN             NaN  officer   \n",
       "\n",
       "                                             valid_until  \n",
       "node_id                                                   \n",
       "12000001  The Panama Papers data is current through 2015  \n",
       "12000002  The Panama Papers data is current through 2015  \n",
       "12000003  The Panama Papers data is current through 2015  "
      ]
     },
     "execution_count": 26,
     "metadata": {},
     "output_type": "execute_result"
    }
   ],
   "source": [
    "all_nodes.head(3)"
   ]
  },
  {
   "cell_type": "code",
   "execution_count": 30,
   "metadata": {
    "collapsed": true
   },
   "outputs": [],
   "source": [
    "# Do some cleanup of names\n",
    "all_nodes[\"name\"] = all_nodes[\"name\"].str.upper().str.replace(' ','_')\n",
    "\n",
    "# Ensure that all \"Bearers\" do not become a single node\n",
    "all_nodes[\"name\"].replace(\n",
    "    to_replace = [r\"MRS?\\.\\s+\", r\"\\.\", r\"\\s+\", \"LIMITED\", \"THE BEARER\", \"BEARER\", \"BEARER 1\", \"EL PORTADOR\", \"AL PORTADOR\"],\n",
    "    value = [\"\",\"\", \"\", \"LTD\", np.nan, np.nan, np.nan, np.nan, np.nan],\n",
    "    inplace = True, regex = True)"
   ]
  },
  {
   "cell_type": "code",
   "execution_count": 31,
   "metadata": {},
   "outputs": [
    {
     "data": {
      "text/html": [
       "<div>\n",
       "<style scoped>\n",
       "    .dataframe tbody tr th:only-of-type {\n",
       "        vertical-align: middle;\n",
       "    }\n",
       "\n",
       "    .dataframe tbody tr th {\n",
       "        vertical-align: top;\n",
       "    }\n",
       "\n",
       "    .dataframe thead th {\n",
       "        text-align: right;\n",
       "    }\n",
       "</style>\n",
       "<table border=\"1\" class=\"dataframe\">\n",
       "  <thead>\n",
       "    <tr style=\"text-align: right;\">\n",
       "      <th></th>\n",
       "      <th>closed_date</th>\n",
       "      <th>company_type</th>\n",
       "      <th>countries</th>\n",
       "      <th>country_codes</th>\n",
       "      <th>ibcRUC</th>\n",
       "      <th>inactivation_date</th>\n",
       "      <th>incorporation_date</th>\n",
       "      <th>jurisdiction</th>\n",
       "      <th>jurisdiction_description</th>\n",
       "      <th>name</th>\n",
       "      <th>note</th>\n",
       "      <th>service_provider</th>\n",
       "      <th>sourceID</th>\n",
       "      <th>status</th>\n",
       "      <th>struck_off_date</th>\n",
       "      <th>type</th>\n",
       "      <th>valid_until</th>\n",
       "      <th>names</th>\n",
       "    </tr>\n",
       "    <tr>\n",
       "      <th>node_id</th>\n",
       "      <th></th>\n",
       "      <th></th>\n",
       "      <th></th>\n",
       "      <th></th>\n",
       "      <th></th>\n",
       "      <th></th>\n",
       "      <th></th>\n",
       "      <th></th>\n",
       "      <th></th>\n",
       "      <th></th>\n",
       "      <th></th>\n",
       "      <th></th>\n",
       "      <th></th>\n",
       "      <th></th>\n",
       "      <th></th>\n",
       "      <th></th>\n",
       "      <th></th>\n",
       "      <th></th>\n",
       "    </tr>\n",
       "  </thead>\n",
       "  <tbody>\n",
       "    <tr>\n",
       "      <th>12000001</th>\n",
       "      <td>NaN</td>\n",
       "      <td>NaN</td>\n",
       "      <td>South Korea</td>\n",
       "      <td>KOR</td>\n",
       "      <td>NaN</td>\n",
       "      <td>NaN</td>\n",
       "      <td>NaN</td>\n",
       "      <td>NaN</td>\n",
       "      <td>NaN</td>\n",
       "      <td>KIM_SOO_IN</td>\n",
       "      <td>NaN</td>\n",
       "      <td>NaN</td>\n",
       "      <td>Panama Papers</td>\n",
       "      <td>NaN</td>\n",
       "      <td>NaN</td>\n",
       "      <td>officer</td>\n",
       "      <td>The Panama Papers data is current through 2015</td>\n",
       "      <td>KIM_SOO_IN</td>\n",
       "    </tr>\n",
       "    <tr>\n",
       "      <th>12000002</th>\n",
       "      <td>NaN</td>\n",
       "      <td>NaN</td>\n",
       "      <td>China</td>\n",
       "      <td>CHN</td>\n",
       "      <td>NaN</td>\n",
       "      <td>NaN</td>\n",
       "      <td>NaN</td>\n",
       "      <td>NaN</td>\n",
       "      <td>NaN</td>\n",
       "      <td>TIAN_YUAN</td>\n",
       "      <td>NaN</td>\n",
       "      <td>NaN</td>\n",
       "      <td>Panama Papers</td>\n",
       "      <td>NaN</td>\n",
       "      <td>NaN</td>\n",
       "      <td>officer</td>\n",
       "      <td>The Panama Papers data is current through 2015</td>\n",
       "      <td>TIAN_YUAN</td>\n",
       "    </tr>\n",
       "    <tr>\n",
       "      <th>12000003</th>\n",
       "      <td>NaN</td>\n",
       "      <td>NaN</td>\n",
       "      <td>Australia</td>\n",
       "      <td>AUS</td>\n",
       "      <td>NaN</td>\n",
       "      <td>NaN</td>\n",
       "      <td>NaN</td>\n",
       "      <td>NaN</td>\n",
       "      <td>NaN</td>\n",
       "      <td>GREGORY_JOHN_SOLOMON</td>\n",
       "      <td>NaN</td>\n",
       "      <td>NaN</td>\n",
       "      <td>Panama Papers</td>\n",
       "      <td>NaN</td>\n",
       "      <td>NaN</td>\n",
       "      <td>officer</td>\n",
       "      <td>The Panama Papers data is current through 2015</td>\n",
       "      <td>GREGORY_JOHN_SOLOMON</td>\n",
       "    </tr>\n",
       "  </tbody>\n",
       "</table>\n",
       "</div>"
      ],
      "text/plain": [
       "          closed_date  company_type    countries country_codes ibcRUC  \\\n",
       "node_id                                                                 \n",
       "12000001          NaN           NaN  South Korea           KOR    NaN   \n",
       "12000002          NaN           NaN        China           CHN    NaN   \n",
       "12000003          NaN           NaN    Australia           AUS    NaN   \n",
       "\n",
       "         inactivation_date incorporation_date jurisdiction  \\\n",
       "node_id                                                      \n",
       "12000001               NaN                NaN          NaN   \n",
       "12000002               NaN                NaN          NaN   \n",
       "12000003               NaN                NaN          NaN   \n",
       "\n",
       "         jurisdiction_description                  name note service_provider  \\\n",
       "node_id                                                                         \n",
       "12000001                      NaN            KIM_SOO_IN  NaN              NaN   \n",
       "12000002                      NaN             TIAN_YUAN  NaN              NaN   \n",
       "12000003                      NaN  GREGORY_JOHN_SOLOMON  NaN              NaN   \n",
       "\n",
       "               sourceID status struck_off_date     type  \\\n",
       "node_id                                                   \n",
       "12000001  Panama Papers    NaN             NaN  officer   \n",
       "12000002  Panama Papers    NaN             NaN  officer   \n",
       "12000003  Panama Papers    NaN             NaN  officer   \n",
       "\n",
       "                                             valid_until                 names  \n",
       "node_id                                                                         \n",
       "12000001  The Panama Papers data is current through 2015            KIM_SOO_IN  \n",
       "12000002  The Panama Papers data is current through 2015             TIAN_YUAN  \n",
       "12000003  The Panama Papers data is current through 2015  GREGORY_JOHN_SOLOMON  "
      ]
     },
     "execution_count": 31,
     "metadata": {},
     "output_type": "execute_result"
    }
   ],
   "source": [
    "# type(all_nodes)\n",
    "all_nodes.head(3)"
   ]
  },
  {
   "cell_type": "code",
   "execution_count": 8,
   "metadata": {},
   "outputs": [],
   "source": [
    "CCODES = \"SAU\" #, \"JOR\" # country code to be examined in subgraph\n",
    "# seeds = all_nodes[all_nodes[\"country_codes\"].isin(CCODES)].index\n",
    "seeds = all_nodes[all_nodes[\"country_codes\"] == 'SAU'].index\n",
    "\n",
    "nodes_of_interest = set.union(*[\\\n",
    "                               set(nx.single_source_shortest_path_length(F, seed, cutoff = 2).keys())\n",
    "                               for seed in seeds])\n",
    "# Extract the subgraph and relabel it\n",
    "ego = nx.subgraph(F, nodes_of_interest)"
   ]
  },
  {
   "cell_type": "code",
   "execution_count": null,
   "metadata": {},
   "outputs": [],
   "source": [
    "ego\n",
    "# print(nodes_of_interest)"
   ]
  },
  {
   "cell_type": "code",
   "execution_count": 9,
   "metadata": {},
   "outputs": [],
   "source": [
    "nodes = all_nodes.reindex(ego)\n",
    "# nodes = all_nodes.iloc(ego)"
   ]
  },
  {
   "cell_type": "code",
   "execution_count": null,
   "metadata": {},
   "outputs": [],
   "source": []
  },
  {
   "cell_type": "code",
   "execution_count": 14,
   "metadata": {
    "collapsed": true
   },
   "outputs": [],
   "source": [
    "# nodes = all_nodes.groupby(ego)\n",
    "# nodes.head(3)\n",
    "nodes = nodes[~nodes.index.duplicated()]"
   ]
  },
  {
   "cell_type": "code",
   "execution_count": null,
   "metadata": {},
   "outputs": [],
   "source": [
    "# nx.__version__\n",
    "# nodes"
   ]
  },
  {
   "cell_type": "code",
   "execution_count": 15,
   "metadata": {
    "scrolled": true
   },
   "outputs": [],
   "source": [
    "nx.set_node_attributes(F, nodes[\"country_codes\"], \"cc\") # SHouldn't F be ego?"
   ]
  },
  {
   "cell_type": "code",
   "execution_count": null,
   "metadata": {},
   "outputs": [],
   "source": [
    "# valid_names\n",
    "# ego\n",
    "nodes.columns\n",
    "nx.__version__"
   ]
  },
  {
   "cell_type": "code",
   "execution_count": 16,
   "metadata": {
    "collapsed": true
   },
   "outputs": [],
   "source": [
    "ego2 = ego.copy()"
   ]
  },
  {
   "cell_type": "code",
   "execution_count": 17,
   "metadata": {},
   "outputs": [
    {
     "data": {
      "text/plain": [
       "<networkx.classes.graph.Graph at 0x152359cdd8>"
      ]
     },
     "execution_count": 17,
     "metadata": {},
     "output_type": "execute_result"
    }
   ],
   "source": [
    "valid_names = nodes[nodes[\"name\"].notnull()][\"name\"].to_dict()\n",
    "\n",
    "nx.relabel_nodes(ego2, valid_names, copy = False)\n",
    "# nx.write_graphml(ego, ofile)"
   ]
  },
  {
   "cell_type": "code",
   "execution_count": null,
   "metadata": {},
   "outputs": [],
   "source": []
  },
  {
   "cell_type": "code",
   "execution_count": 18,
   "metadata": {
    "collapsed": true
   },
   "outputs": [],
   "source": [
    "# Save and proceed to Gephi\n",
    "with open(\"panama-SAU.graphml\",\"wb\") as ofile:\n",
    "    nx.write_graphml(ego, ofile)\n"
   ]
  },
  {
   "cell_type": "code",
   "execution_count": null,
   "metadata": {
    "collapsed": true
   },
   "outputs": [],
   "source": [
    "# nx.write_graphml(F, \"panama-ca.graphml\")"
   ]
  },
  {
   "cell_type": "code",
   "execution_count": null,
   "metadata": {},
   "outputs": [],
   "source": [
    "# from networkx.drawing.nx_agraph import graphviz_layout\n",
    "# import nxpd as nxpd\n",
    "\n",
    "# _, plot = plt.subplots()\n",
    "# pos = graphviz_layout(ego)\n",
    "# nx.draw_network(ego, pos, **dzcnapy.attrs)\n",
    "# dzcnapy.set_extent(pos, plot)"
   ]
  },
  {
   "cell_type": "code",
   "execution_count": 20,
   "metadata": {},
   "outputs": [
    {
     "ename": "PowerIterationFailedConvergence",
     "evalue": "(PowerIterationFailedConvergence(...), 'power iteration failed to converge within 100 iterations')",
     "output_type": "error",
     "traceback": [
      "\u001b[0;31m---------------------------------------------------------------------------\u001b[0m",
      "\u001b[0;31mPowerIterationFailedConvergence\u001b[0m           Traceback (most recent call last)",
      "\u001b[0;32m<ipython-input-20-51a702f00c51>\u001b[0m in \u001b[0;36m<module>\u001b[0;34m()\u001b[0m\n\u001b[1;32m      2\u001b[0m \u001b[0mcol\u001b[0m \u001b[0;34m=\u001b[0m \u001b[0mnx\u001b[0m\u001b[0;34m.\u001b[0m\u001b[0mcloseness_centrality\u001b[0m\u001b[0;34m(\u001b[0m\u001b[0mego2\u001b[0m\u001b[0;34m)\u001b[0m\u001b[0;34m\u001b[0m\u001b[0m\n\u001b[1;32m      3\u001b[0m \u001b[0mhar\u001b[0m \u001b[0;34m=\u001b[0m \u001b[0mnx\u001b[0m\u001b[0;34m.\u001b[0m\u001b[0mharmonic_centrality\u001b[0m\u001b[0;34m(\u001b[0m\u001b[0mego2\u001b[0m\u001b[0;34m)\u001b[0m\u001b[0;34m\u001b[0m\u001b[0m\n\u001b[0;32m----> 4\u001b[0;31m \u001b[0meig\u001b[0m \u001b[0;34m=\u001b[0m \u001b[0mnx\u001b[0m\u001b[0;34m.\u001b[0m\u001b[0meigenvector_centrality\u001b[0m\u001b[0;34m(\u001b[0m\u001b[0mego2\u001b[0m\u001b[0;34m)\u001b[0m\u001b[0;34m\u001b[0m\u001b[0m\n\u001b[0m\u001b[1;32m      5\u001b[0m \u001b[0mbet\u001b[0m \u001b[0;34m=\u001b[0m \u001b[0mnx\u001b[0m\u001b[0;34m.\u001b[0m\u001b[0mbetweenness_centrality\u001b[0m\u001b[0;34m(\u001b[0m\u001b[0mego2\u001b[0m\u001b[0;34m)\u001b[0m\u001b[0;34m\u001b[0m\u001b[0m\n\u001b[1;32m      6\u001b[0m \u001b[0mpgr\u001b[0m \u001b[0;34m=\u001b[0m \u001b[0mnx\u001b[0m\u001b[0;34m.\u001b[0m\u001b[0mpagerank\u001b[0m\u001b[0;34m(\u001b[0m\u001b[0mego2\u001b[0m\u001b[0;34m)\u001b[0m\u001b[0;34m\u001b[0m\u001b[0m\n",
      "\u001b[0;32m<decorator-gen-176>\u001b[0m in \u001b[0;36meigenvector_centrality\u001b[0;34m(G, max_iter, tol, nstart, weight)\u001b[0m\n",
      "\u001b[0;32m/Applications/anaconda/lib/python3.6/site-packages/networkx/utils/decorators.py\u001b[0m in \u001b[0;36m_not_implemented_for\u001b[0;34m(f, *args, **kwargs)\u001b[0m\n\u001b[1;32m     68\u001b[0m                                             ' '.join(graph_types))\n\u001b[1;32m     69\u001b[0m         \u001b[0;32melse\u001b[0m\u001b[0;34m:\u001b[0m\u001b[0;34m\u001b[0m\u001b[0m\n\u001b[0;32m---> 70\u001b[0;31m             \u001b[0;32mreturn\u001b[0m \u001b[0mf\u001b[0m\u001b[0;34m(\u001b[0m\u001b[0;34m*\u001b[0m\u001b[0margs\u001b[0m\u001b[0;34m,\u001b[0m \u001b[0;34m**\u001b[0m\u001b[0mkwargs\u001b[0m\u001b[0;34m)\u001b[0m\u001b[0;34m\u001b[0m\u001b[0m\n\u001b[0m\u001b[1;32m     71\u001b[0m     \u001b[0;32mreturn\u001b[0m \u001b[0m_not_implemented_for\u001b[0m\u001b[0;34m\u001b[0m\u001b[0m\n\u001b[1;32m     72\u001b[0m \u001b[0;34m\u001b[0m\u001b[0m\n",
      "\u001b[0;32m/Applications/anaconda/lib/python3.6/site-packages/networkx/algorithms/centrality/eigenvector.py\u001b[0m in \u001b[0;36meigenvector_centrality\u001b[0;34m(G, max_iter, tol, nstart, weight)\u001b[0m\n\u001b[1;32m    146\u001b[0m         \u001b[0;32mif\u001b[0m \u001b[0msum\u001b[0m\u001b[0;34m(\u001b[0m\u001b[0mabs\u001b[0m\u001b[0;34m(\u001b[0m\u001b[0mx\u001b[0m\u001b[0;34m[\u001b[0m\u001b[0mn\u001b[0m\u001b[0;34m]\u001b[0m \u001b[0;34m-\u001b[0m \u001b[0mxlast\u001b[0m\u001b[0;34m[\u001b[0m\u001b[0mn\u001b[0m\u001b[0;34m]\u001b[0m\u001b[0;34m)\u001b[0m \u001b[0;32mfor\u001b[0m \u001b[0mn\u001b[0m \u001b[0;32min\u001b[0m \u001b[0mx\u001b[0m\u001b[0;34m)\u001b[0m \u001b[0;34m<\u001b[0m \u001b[0mnnodes\u001b[0m \u001b[0;34m*\u001b[0m \u001b[0mtol\u001b[0m\u001b[0;34m:\u001b[0m\u001b[0;34m\u001b[0m\u001b[0m\n\u001b[1;32m    147\u001b[0m             \u001b[0;32mreturn\u001b[0m \u001b[0mx\u001b[0m\u001b[0;34m\u001b[0m\u001b[0m\n\u001b[0;32m--> 148\u001b[0;31m     \u001b[0;32mraise\u001b[0m \u001b[0mnx\u001b[0m\u001b[0;34m.\u001b[0m\u001b[0mPowerIterationFailedConvergence\u001b[0m\u001b[0;34m(\u001b[0m\u001b[0mmax_iter\u001b[0m\u001b[0;34m)\u001b[0m\u001b[0;34m\u001b[0m\u001b[0m\n\u001b[0m\u001b[1;32m    149\u001b[0m \u001b[0;34m\u001b[0m\u001b[0m\n\u001b[1;32m    150\u001b[0m \u001b[0;34m\u001b[0m\u001b[0m\n",
      "\u001b[0;31mPowerIterationFailedConvergence\u001b[0m: (PowerIterationFailedConvergence(...), 'power iteration failed to converge within 100 iterations')"
     ]
    }
   ],
   "source": [
    "# dgr = nx.degree_centrality(ego2)\n",
    "# col = nx.closeness_centrality(ego2)\n",
    "# har = nx.harmonic_centrality(ego2)\n",
    "# eig = nx.eigenvector_centrality(ego2)\n",
    "# bet = nx.betweenness_centrality(ego2)\n",
    "# pgr = nx.pagerank(ego2)"
   ]
  },
  {
   "cell_type": "code",
   "execution_count": null,
   "metadata": {
    "collapsed": true
   },
   "outputs": [],
   "source": []
  }
 ],
 "metadata": {
  "kernelspec": {
   "display_name": "Python 3",
   "language": "python",
   "name": "python3"
  },
  "language_info": {
   "codemirror_mode": {
    "name": "ipython",
    "version": 3
   },
   "file_extension": ".py",
   "mimetype": "text/x-python",
   "name": "python",
   "nbconvert_exporter": "python",
   "pygments_lexer": "ipython3",
   "version": "3.6.4"
  }
 },
 "nbformat": 4,
 "nbformat_minor": 2
}
