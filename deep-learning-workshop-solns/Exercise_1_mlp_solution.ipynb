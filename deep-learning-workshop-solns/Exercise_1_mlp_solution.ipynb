{
 "cells": [
  {
   "cell_type": "markdown",
   "metadata": {
    "collapsed": true
   },
   "source": [
    "# Exercise 1:  Multilayer perceptron on MNIST dataset\n",
    "\n",
    "Build a 2-hidden layer fully connected neural network (a.k.a multilayer perceptron) with TensorFlow to classify digits in the [MNIST dataset](https://en.wikipedia.org/wiki/MNIST_database).\n",
    "\n",
    "Adapted from Github User [aymericdamienhtt](https://github.com/aymericdamien) with use governed by the [MIT license](https://opensource.org/licenses/MIT)."
   ]
  },
  {
   "cell_type": "markdown",
   "metadata": {},
   "source": [
    "## Multilayer Perceptron Overview\n",
    "\n",
    "<img src=\"http://cs231n.github.io/assets/nn1/neural_net2.jpeg\" alt=\"nn\" style=\"width: 400px;\"/>\n",
    "\n",
    "## MNIST Dataset Overview\n",
    "\n",
    "This example is using MNIST handwritten digits. The dataset contains 60,000 examples for training and 10,000 examples for testing. The digits have been size-normalized and centered in a fixed-size image (28x28 pixels) with values from 0 to 1. For simplicity, each image has been flattened and converted to a 1-D numpy array of 784 features (28*28).\n",
    "\n",
    "![MNIST Dataset](http://neuralnetworksanddeeplearning.com/images/mnist_100_digits.png)\n",
    "\n",
    "\n",
    "More info: http://yann.lecun.com/exdb/mnist/"
   ]
  },
  {
   "cell_type": "markdown",
   "metadata": {},
   "source": [
    "#### Imports"
   ]
  },
  {
   "cell_type": "code",
   "execution_count": 1,
   "metadata": {},
   "outputs": [],
   "source": [
    "import tensorflow as tf\n",
    "import matplotlib.pyplot as plt"
   ]
  },
  {
   "cell_type": "markdown",
   "metadata": {},
   "source": [
    "#### Import the MNIST data"
   ]
  },
  {
   "cell_type": "code",
   "execution_count": 2,
   "metadata": {},
   "outputs": [
    {
     "name": "stdout",
     "output_type": "stream",
     "text": [
      "Extracting /tmp/data/train-images-idx3-ubyte.gz\n",
      "Extracting /tmp/data/train-labels-idx1-ubyte.gz\n",
      "Extracting /tmp/data/t10k-images-idx3-ubyte.gz\n",
      "Extracting /tmp/data/t10k-labels-idx1-ubyte.gz\n"
     ]
    }
   ],
   "source": [
    "from tensorflow.examples.tutorials.mnist import input_data\n",
    "mnist = input_data.read_data_sets(\"/tmp/data/\", one_hot=True)"
   ]
  },
  {
   "cell_type": "markdown",
   "metadata": {},
   "source": [
    "#### What does the data look like?"
   ]
  },
  {
   "cell_type": "code",
   "execution_count": 3,
   "metadata": {},
   "outputs": [
    {
     "name": "stdout",
     "output_type": "stream",
     "text": [
      "Shape of the training set:  (55000, 784)\n",
      "Shape of the test set:  (10000, 784)\n"
     ]
    }
   ],
   "source": [
    "print(\"Shape of the training set: \", mnist.train.images.shape)\n",
    "print(\"Shape of the test set: \", mnist.test.images.shape)"
   ]
  },
  {
   "cell_type": "code",
   "execution_count": 4,
   "metadata": {},
   "outputs": [
    {
     "name": "stdout",
     "output_type": "stream",
     "text": [
      "The shape of one image is:  (784,)\n",
      "The maximum pixel intensity in the selected image is:  0.996078\n",
      "The minimum pixel intensity in the selected image is:  0.0\n",
      "The one-hot encoded label for this image is: \n",
      "[ 0   1   2   3   4   5   6   7   8   9]\n",
      "[ 0.  0.  0.  0.  0.  0.  0.  1.  0.  0.]\n",
      "\n",
      "Made into a 28 x 28 pixel image the image looks like:\n"
     ]
    },
    {
     "data": {
      "image/png": "[encoded data removed]",
      "text/plain": [
       "<matplotlib.figure.Figure at 0x7fdb611c4828>"
      ]
     },
     "metadata": {},
     "output_type": "display_data"
    }
   ],
   "source": [
    "# Look at one image\n",
    "img = 0 # feel free to modify\n",
    "print(\"The shape of one image is: \", mnist.train.images[0].shape)\n",
    "print(\"The maximum pixel intensity in the selected image is: \", mnist.train.images[0].max())\n",
    "print(\"The minimum pixel intensity in the selected image is: \", mnist.train.images[0].min())\n",
    "print(\"The one-hot encoded label for this image is: \")\n",
    "print(\"[ 0   1   2   3   4   5   6   7   8   9]\")\n",
    "print(mnist.train.labels[img])\n",
    "print(\"\\nMade into a 28 x 28 pixel image the image looks like:\")\n",
    "plt.imshow(mnist.train.images[img].reshape(28, 28), cmap = 'gray');"
   ]
  },
  {
   "cell_type": "markdown",
   "metadata": {},
   "source": [
    "#### Set model and network parameters"
   ]
  },
  {
   "cell_type": "code",
   "execution_count": 5,
   "metadata": {},
   "outputs": [],
   "source": [
    "# Parameters\n",
    "learning_rate = 0.1  # tuneable parameter adusting how much weights are updated\n",
    "num_epochs = 500     # how many times will we pass through the whole dataset during training\n",
    "batch_size = 128     # how many rows of data during training should a weight update be based on\n",
    "display_epoch = 100   # after how many epochs would we like to see training results"
   ]
  },
  {
   "cell_type": "code",
   "execution_count": 6,
   "metadata": {},
   "outputs": [],
   "source": [
    "# Network Parameters\n",
    "n_hidden_1 = 256 # 1st layer number of neurons \n",
    "n_hidden_2 = 256 # 2nd layer number of neurons\n",
    "num_input = 784 # MNIST data input (img shape: 28*28)\n",
    "num_classes = 10 # MNIST total classes (0-9 digits)"
   ]
  },
  {
   "cell_type": "markdown",
   "metadata": {},
   "source": [
    "#### Define the tensors (constants, placeholders, variables)"
   ]
  },
  {
   "cell_type": "code",
   "execution_count": 7,
   "metadata": {},
   "outputs": [],
   "source": [
    "# make tensor placeholders for the input and output\n",
    "# tf Graph input\n",
    "X = tf.placeholder(tf.float32, shape = (None, num_input))\n",
    "Y = tf.placeholder(tf.float32, shape = (None, num_classes))"
   ]
  },
  {
   "cell_type": "code",
   "execution_count": 8,
   "metadata": {},
   "outputs": [],
   "source": [
    "# make variable tensors for the weights and biases\n",
    "weights = {\n",
    "    'h1': tf.Variable(tf.random_normal(shape=(num_input, n_hidden_1))),\n",
    "    'h2': tf.Variable(tf.random_normal(shape=(n_hidden_1, n_hidden_2))),\n",
    "    'out': tf.Variable(tf.random_normal(shape=(n_hidden_2, num_classes)))\n",
    "}\n",
    "biases = {\n",
    "    'b1': tf.Variable(tf.random_normal(shape=(n_hidden_1,))),\n",
    "    'b2': tf.Variable(tf.random_normal(shape=(n_hidden_2,))),\n",
    "    'out': tf.Variable(tf.random_normal(shape=(num_classes,)))\n",
    "}"
   ]
  },
  {
   "cell_type": "markdown",
   "metadata": {},
   "source": [
    "#### Define the operations"
   ]
  },
  {
   "cell_type": "code",
   "execution_count": 9,
   "metadata": {},
   "outputs": [],
   "source": [
    "# define, using operations, the feed-forward calculation of layer values\n",
    "def feed_forward(x):\n",
    "    # First hidden fully connected layer\n",
    "    z1 = tf.add(tf.matmul(x, weights['h1']), biases['b1'])\n",
    "    a1 = tf.nn.sigmoid(z1)\n",
    "    # Second hidden fully connected layer\n",
    "    z2 = tf.add(tf.matmul(a1, weights['h2']), biases['b2'])\n",
    "    a2 = tf.nn.sigmoid(z2)\n",
    "    # Output fully connected layer with a neuron for each class\n",
    "    out = tf.add(tf.matmul(a2, weights['out']), biases['out'])\n",
    "    return out"
   ]
  },
  {
   "cell_type": "code",
   "execution_count": 10,
   "metadata": {},
   "outputs": [],
   "source": [
    "# Using the feed_forward operation, get the predictions\n",
    "logits = feed_forward(X)"
   ]
  },
  {
   "cell_type": "markdown",
   "metadata": {},
   "source": [
    "Define the loss, see the [softmax](https://en.wikipedia.org/wiki/Softmax_function) and [cross_entropy](https://en.wikipedia.org/wiki/Cross_entropy) definitions."
   ]
  },
  {
   "cell_type": "code",
   "execution_count": 11,
   "metadata": {},
   "outputs": [],
   "source": [
    "# Define the loss operation and optimizer\n",
    "loss_op = tf.reduce_mean(tf.nn.softmax_cross_entropy_with_logits(\n",
    "    logits=logits, labels=Y))"
   ]
  },
  {
   "cell_type": "code",
   "execution_count": 12,
   "metadata": {},
   "outputs": [],
   "source": [
    "# Define the optimizer operation\n",
    "optimizer = tf.train.GradientDescentOptimizer(learning_rate)\n",
    "train_op = optimizer.minimize(loss_op)"
   ]
  },
  {
   "cell_type": "code",
   "execution_count": 13,
   "metadata": {},
   "outputs": [],
   "source": [
    "# Define a custom accuracy operation\n",
    "correct_pred = tf.equal(tf.argmax(logits, 1), tf.argmax(Y, 1))\n",
    "accuracy = tf.reduce_mean(tf.cast(correct_pred, tf.float32))"
   ]
  },
  {
   "cell_type": "markdown",
   "metadata": {},
   "source": [
    "#### Can finally initialize the variables"
   ]
  },
  {
   "cell_type": "code",
   "execution_count": 14,
   "metadata": {},
   "outputs": [],
   "source": [
    "# Initialize the variables (i.e. assign their default value)\n",
    "init = tf.global_variables_initializer()"
   ]
  },
  {
   "cell_type": "markdown",
   "metadata": {},
   "source": [
    "#### Start a session and train and test\n",
    "Useful tensorflow fuctions:\n",
    "make minibatches:"
   ]
  },
  {
   "cell_type": "code",
   "execution_count": 15,
   "metadata": {},
   "outputs": [
    {
     "name": "stdout",
     "output_type": "stream",
     "text": [
      "Epoch 1, Minibatch Loss= 11.5589, Training Accuracy= 0.102\n",
      "Epoch 100, Minibatch Loss= 2.1384, Training Accuracy= 0.555\n",
      "Epoch 200, Minibatch Loss= 1.2614, Training Accuracy= 0.656\n",
      "Epoch 300, Minibatch Loss= 0.8842, Training Accuracy= 0.734\n",
      "Epoch 400, Minibatch Loss= 1.3279, Training Accuracy= 0.680\n",
      "Epoch 500, Minibatch Loss= 0.9876, Training Accuracy= 0.773\n",
      "Optimization Finished!\n",
      "Testing Accuracy: 0.7549\n"
     ]
    }
   ],
   "source": [
    "# Start training\n",
    "with tf.Session() as sess:\n",
    "\n",
    "    # Run the initializer\n",
    "    sess.run(init)\n",
    "\n",
    "    for epoch in range(1, num_epochs+1):\n",
    "        # get a minibatch to train on\n",
    "        batch_x, batch_y = mnist.train.next_batch(batch_size)\n",
    "        \n",
    "        # Run the training operation to update the weights, use a feed_dict to use batch_x and batch_y\n",
    "        sess.run(train_op, feed_dict={X: batch_x, Y: batch_y})\n",
    "        \n",
    "        # display output if desired\n",
    "        if epoch % display_epoch == 0 or epoch == 1:\n",
    "            # Calculate batch loss and accuracy\n",
    "            # You can run multiple operations using a list\n",
    "            # as above, use a feed dictionary for batch_x, batch_y\n",
    "            loss, acc = sess.run([loss_op, accuracy], feed_dict={X: batch_x,\n",
    "                                                                 Y: batch_y})\n",
    "            print(\"Epoch \" + str(epoch) + \", Minibatch Loss= \" + \\\n",
    "                  \"{:.4f}\".format(loss) + \", Training Accuracy= \" + \\\n",
    "                  \"{:.3f}\".format(acc))\n",
    "\n",
    "    print(\"Optimization Finished!\")\n",
    "\n",
    "    # Run the accuracy operations for the MNIST test images\n",
    "    print(\"Testing Accuracy:\", \\\n",
    "        sess.run(accuracy, feed_dict={X: mnist.test.images,\n",
    "                                      Y: mnist.test.labels}))"
   ]
  },
  {
   "cell_type": "code",
   "execution_count": null,
   "metadata": {},
   "outputs": [],
   "source": [
    "\n"
   ]
  }
 ],
 "metadata": {
  "anaconda-cloud": {},
  "kernelspec": {
   "display_name": "Python 3",
   "language": "python",
   "name": "python3"
  },
  "language_info": {
   "codemirror_mode": {
    "name": "ipython",
    "version": 3
   },
   "file_extension": ".py",
   "mimetype": "text/x-python",
   "name": "python",
   "nbconvert_exporter": "python",
   "pygments_lexer": "ipython3",
   "version": "3.5.2"
  }
 },
 "nbformat": 4,
 "nbformat_minor": 1
}
