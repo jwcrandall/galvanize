{
 "cells": [
  {
   "cell_type": "markdown",
   "metadata": {},
   "source": [
    "# Exercise 2: CNN to classify Cifar10 dataset\n",
    "\n",
    "Build a convolutional neural network (a.k.a multilayer perceptron) with TensorFlow to classify images in the [Cifar-10 dataset](https://www.cs.toronto.edu/~kriz/cifar.html)."
   ]
  },
  {
   "cell_type": "markdown",
   "metadata": {},
   "source": [
    "### Convolutional Neural Networks\n",
    "\n",
    "Convolutional cells pass kernels over the image, retaining spatial information between the pixels.\n",
    "![Convcell](src/images/conv_net.jpg \"Convolutional Cell\")\n",
    "\n",
    "Convolutional Neural Networks (CNNs) consist of one or more convolutional layers, typically followed by one or more dense (fully connected) layers. They often include pooling layers (downsampling) as seen below.\n",
    "\n",
    "![Convnet](src/images/CNN.png \"Typical Convolutional Neural Network Architecture\")\n",
    "\n",
    "\n",
    "### CIFAR-10 Dataset \n",
    "\n",
    "consists of 60000 32x32 colour images in 10 classes, with 6000 images per class. \n",
    "There are 50000 training images and 10000 test images. \n",
    "The classes are airplane, automobile, bird, cat, deer, dog, frog, horse, ship, and truck.\n",
    "\n",
    "CIFAR-10 Example images\n",
    "![Cifar10](src/images/cifar10_ex.png \"Cifar-10 Example Images\")\n"
   ]
  },
  {
   "cell_type": "code",
   "execution_count": 1,
   "metadata": {
    "collapsed": true
   },
   "outputs": [],
   "source": [
    "import os\n",
    "import re\n",
    "import sys\n",
    "import tarfile\n",
    "import pickle\n",
    "import numpy as np\n",
    "from six.moves import urllib\n",
    "import tensorflow as tf\n",
    "import matplotlib.pyplot as plt\n",
    "% matplotlib inline"
   ]
  },
  {
   "cell_type": "markdown",
   "metadata": {},
   "source": [
    "### Acquiring Data\n",
    "\n",
    "First, let's download the data. "
   ]
  },
  {
   "cell_type": "code",
   "execution_count": 2,
   "metadata": {},
   "outputs": [
    {
     "name": "stdout",
     "output_type": "stream",
     "text": [
      ">> Downloading cifar-10-python.tar.gz 100.0%\n",
      "Successfully downloaded cifar-10-python.tar.gz 170498071 bytes.\n"
     ]
    }
   ],
   "source": [
    "DATA_URL = 'http://www.cs.toronto.edu/~kriz/cifar-10-python.tar.gz'\n",
    "DATA_DIRECTORY = \"/tmp/cifar10-data\"\n",
    "\n",
    "def maybe_download_and_extract():\n",
    "    \"\"\"Download and extract the tarball from Alex Krizhevsky's website.\"\"\"\n",
    "    if not os.path.exists(DATA_DIRECTORY):\n",
    "        os.makedirs(DATA_DIRECTORY)\n",
    "    filename = DATA_URL.split('/')[-1]\n",
    "    filepath = os.path.join(DATA_DIRECTORY, filename)\n",
    "    if not os.path.exists(filepath):\n",
    "        def _progress(count, block_size, total_size):\n",
    "            sys.stdout.write('\\r>> Downloading %s %.1f%%' % (filename,\n",
    "                float(count * block_size) / float(total_size) * 100.0))\n",
    "            sys.stdout.flush()\n",
    "        filepath, _ = urllib.request.urlretrieve(DATA_URL, filepath, _progress)\n",
    "        print()\n",
    "        statinfo = os.stat(filepath)\n",
    "        print('Successfully downloaded', filename, statinfo.st_size, 'bytes.')\n",
    "    extracted_dir_path = os.path.join(DATA_DIRECTORY, 'cifar-10-batches-python')\n",
    "    if not os.path.exists(extracted_dir_path):\n",
    "        tarfile.open(filepath, 'r:gz').extractall(DATA_DIRECTORY)\n",
    "\n",
    "maybe_download_and_extract()"
   ]
  },
  {
   "cell_type": "markdown",
   "metadata": {},
   "source": [
    "### Preprocessing data \n",
    "\n",
    "This data is stored in pickle files, so we will need to unpickle and open them. There are 5 batches of training data and one batch of testing data. Each of those files turns into a python dictionary when un-pickled, containing the training data, labels, a list of filenames corresponding to the data, and a batch label (for the training data). \n",
    "\n",
    "Both the images and labels need some preprocessing. \n",
    "The images come as a np.array with shape (10000, 3072) and can be reshaped to form a list of 3-channel (RGB) , 32x32 images with shape (10000, 3, 32, 32). Tensorflow wants images to be read in with channels last, so this array needs to have some of the dimensions transposed. Lastly, images are scaled so that pixel values range from 0 to 1 instead of 0 to 255. This is common practice \n",
    "\n",
    "The labels need to be one-hot encoded to be put into the model.\n",
    "\n",
    "Training data sets are concatenated into a single data set. If memory was an issue, data could be read in and transformed in batches."
   ]
  },
  {
   "cell_type": "code",
   "execution_count": 3,
   "metadata": {
    "collapsed": true
   },
   "outputs": [],
   "source": [
    "def unpickle(file):\n",
    "    \"\"\"helper function to un-pickle data files\"\"\"\n",
    "    with open(file, 'rb') as fo:\n",
    "        dict = pickle.load(fo, encoding='bytes')\n",
    "    return dict\n",
    "\n",
    "def reshape_data(ary):\n",
    "    \"\"\"helper function to reshape image arrays to tf dim ordering\"\"\"\n",
    "    ary = ary.reshape(-1, 3, 32, 32)\n",
    "    # put RGB channels last - this is what tensorflow wants, and matplotlib too!\n",
    "    return np.transpose(ary, axes = (0, 2, 3, 1))\n",
    "\n",
    "def one_hot_encode(ary, num_labels = 10):\n",
    "    \"\"\"helper function that encodes 1D label array\"\"\"\n",
    "    return np.eye(num_labels)[ary]\n",
    "    \n",
    "extracted_dir_path = os.path.join(DATA_DIRECTORY, 'cifar-10-batches-py')\n",
    "\n",
    "def extract_train_data():\n",
    "    images, labels = None, None\n",
    "    for i in range(1, 6):\n",
    "        filepath = extracted_dir_path+'/data_batch_{}'.format(i)\n",
    "        data_dict = unpickle(filepath)\n",
    "        temp_images = reshape_data(data_dict[b'data'])\n",
    "        temp_labels = one_hot_encode(data_dict[b'labels'])\n",
    "        if type(images) == np.ndarray:\n",
    "            images = np.concatenate([images, temp_images], axis = 0)\n",
    "            labels = np.concatenate([labels, temp_labels], axis = 0)            \n",
    "        else:\n",
    "            images, labels = temp_images, temp_labels\n",
    "    # change datatype so that tensorflow likes it, scale so pixel values range 0 to 1         \n",
    "    return (images/255).astype(np.float32), labels.astype(np.float32)\n",
    "\n",
    "def extract_test_data():\n",
    "    filepath = extracted_dir_path+'/test_batch'\n",
    "    data_dict = unpickle(filepath)\n",
    "    images = reshape_data(data_dict[b'data'])\n",
    "    labels = one_hot_encode(data_dict[b'labels'])\n",
    "    return (images/255).astype(np.float32), labels.astype(np.float32)\n",
    "\n",
    "images, labels = extract_train_data()\n",
    "\n",
    "test_images, test_labels = extract_test_data()\n"
   ]
  },
  {
   "cell_type": "markdown",
   "metadata": {},
   "source": [
    "#### Quick inspection\n",
    "\n",
    "Let's inspect a random image. Note that the image is very fuzzy...there are only 32 pixels of each side, which is about an order or magnitude less resolution than what you are used to!"
   ]
  },
  {
   "cell_type": "code",
   "execution_count": 4,
   "metadata": {},
   "outputs": [
    {
     "data": {
      "text/plain": [
       "<matplotlib.image.AxesImage at 0x7f635173cf98>"
      ]
     },
     "execution_count": 4,
     "metadata": {},
     "output_type": "execute_result"
    },
    {
     "data": {
      "image/png": "[encoded data removed]",
      "text/plain": [
       "<matplotlib.figure.Figure at 0x7f63521bc518>"
      ]
     },
     "metadata": {},
     "output_type": "display_data"
    }
   ],
   "source": [
    "n = 25348 # feel free to pick your own random number between 0 and 49999\n",
    "plt.imshow(images[n])"
   ]
  },
  {
   "cell_type": "code",
   "execution_count": 5,
   "metadata": {},
   "outputs": [
    {
     "name": "stdout",
     "output_type": "stream",
     "text": [
      "This image has label 8 or \"ship\"\n"
     ]
    }
   ],
   "source": [
    "label_names = ['airplane','automobile','bird','cat','deer','dog','frog','horse','ship','truck']\n",
    "label = labels[n].argmax()\n",
    "print('This image has label {} or \"{}\"'.format(label, label_names[label]))"
   ]
  },
  {
   "cell_type": "markdown",
   "metadata": {},
   "source": [
    "Histogram of image pixels, separated by color. The values range between 0 and 1 as expected. Note that these pixel distributions are very different from the MNIST dataset. These images are more complicated and will likely require a more complex model and more fitting time."
   ]
  },
  {
   "cell_type": "code",
   "execution_count": 6,
   "metadata": {},
   "outputs": [
    {
     "data": {
      "text/plain": [
       "(array([ 0.6335625 ,  0.93432708,  1.24217917,  1.33078958,  1.40803333,\n",
       "         1.24417917,  1.08178958,  0.79830208,  0.61402083,  0.71281667]),\n",
       " array([ 0. ,  0.1,  0.2,  0.3,  0.4,  0.5,  0.6,  0.7,  0.8,  0.9,  1. ]),\n",
       " <a list of 10 Patch objects>)"
      ]
     },
     "execution_count": 6,
     "metadata": {},
     "output_type": "execute_result"
    },
    {
     "data": {
      "image/png": "[encoded data removed]",
      "text/plain": [
       "<matplotlib.figure.Figure at 0x7f634f6ffeb8>"
      ]
     },
     "metadata": {},
     "output_type": "display_data"
    }
   ],
   "source": [
    "plt.hist(images[:,:,0].ravel(), color= 'r', alpha = 0.4, normed = True)\n",
    "plt.hist(images[:,:,1].ravel(), color= 'g', alpha = 0.4, normed = True)\n",
    "plt.hist(images[:,:,2].ravel(), color= 'b', alpha = 0.4, normed = True)"
   ]
  },
  {
   "cell_type": "markdown",
   "metadata": {},
   "source": [
    "#### Validation Set\n",
    "\n",
    "Let's split off 10000 images from our training set to use as for validation"
   ]
  },
  {
   "cell_type": "code",
   "execution_count": 7,
   "metadata": {},
   "outputs": [
    {
     "name": "stdout",
     "output_type": "stream",
     "text": [
      "Validation images shape (10000, 32, 32, 3)\n",
      "Validation labels shape (10000, 10)\n",
      "Train size 40000\n"
     ]
    }
   ],
   "source": [
    "VALIDATION_SIZE = 10000\n",
    "\n",
    "validation_images = images[:VALIDATION_SIZE, :, :, :]\n",
    "validation_labels = labels[:VALIDATION_SIZE, :]\n",
    "train_images = images[VALIDATION_SIZE:, :, :, :]\n",
    "train_labels = labels[VALIDATION_SIZE:, :]\n",
    "\n",
    "train_size = train_labels.shape[0]\n",
    "\n",
    "print('Validation images shape', validation_images.shape)\n",
    "print('Validation labels shape', validation_labels.shape)\n",
    "print('Train size', train_size)"
   ]
  },
  {
   "cell_type": "markdown",
   "metadata": {},
   "source": [
    "#### Subset the Data\n",
    "\n",
    "CIFAR-10 is a large dataset and takes a long time to train. So that you have time to iterate on this model, we will downsample the dataset. When you have a model you like, you should try it with all of the data."
   ]
  },
  {
   "cell_type": "code",
   "execution_count": 8,
   "metadata": {
    "collapsed": true
   },
   "outputs": [],
   "source": [
    "# get indicies of data that we will keep in our subsample\n",
    "train_subsample_inds = np.random.choice(train_size, train_size//10, replace = False)\n",
    "validation_subsample_inds = np.random.choice(VALIDATION_SIZE, VALIDATION_SIZE//10, replace = False)\n",
    "test_subsample_inds = np.random.choice(VALIDATION_SIZE, VALIDATION_SIZE//10, replace = False)\n",
    "\n",
    "# create those subsamples \n",
    "train_images_small = train_images[train_subsample_inds]\n",
    "train_labels_small = train_labels[train_subsample_inds]\n",
    "\n",
    "validation_images_small = validation_images[validation_subsample_inds]\n",
    "validation_labels_small = validation_labels[validation_subsample_inds]\n",
    "\n",
    "test_images_small = test_images[test_subsample_inds]\n",
    "test_labels_small = test_labels[test_subsample_inds]"
   ]
  },
  {
   "cell_type": "markdown",
   "metadata": {},
   "source": [
    "### Modeling\n",
    "\n",
    "These next few cells set up things for the model\n",
    "\n",
    "First, we'll set a few parameters. "
   ]
  },
  {
   "cell_type": "code",
   "execution_count": 9,
   "metadata": {
    "collapsed": true
   },
   "outputs": [],
   "source": [
    "# these shouldn't change\n",
    "IMAGE_SIZE = 32\n",
    "NUM_CHANNELS = 3\n",
    "NUM_LABELS = 10\n",
    "\n",
    "# these could be tuned \n",
    "BATCH_SIZE = 50\n",
    "SEED = 42"
   ]
  },
  {
   "cell_type": "markdown",
   "metadata": {},
   "source": [
    "Now, create placeholder tensors that will be used to feed data into the model. Remember that the first dimension should allow for flexibility for different batch sizes (and evaluating the validation and test data, as well)"
   ]
  },
  {
   "cell_type": "code",
   "execution_count": 10,
   "metadata": {
    "collapsed": true
   },
   "outputs": [],
   "source": [
    "# Create placeholder tensors for X and Y. Remember to specify a data type\n",
    "X = tf.placeholder(tf.float32, shape=(None, IMAGE_SIZE, IMAGE_SIZE, NUM_CHANNELS))\n",
    "Y = tf.placeholder(tf.float32, shape=(None, NUM_LABELS))"
   ]
  },
  {
   "cell_type": "markdown",
   "metadata": {},
   "source": [
    "### Set up your model weights\n",
    "\n",
    "Now, fill in variable tensors for the model weights. \n",
    "\n",
    "Your convolutional weights should have the shape [x_kernel_size, y_kernel_size, input_channels, output_channels]\n",
    "\n",
    "The first fully connected layer weights are given to you. The shape assumes that a max pool with size [2, 2] has happened after each convolutional layer. This reduces each image by a factor of 4 in the X and Y dimensions. "
   ]
  },
  {
   "cell_type": "code",
   "execution_count": 11,
   "metadata": {
    "collapsed": true
   },
   "outputs": [],
   "source": [
    "conv_weights = {'c1' : tf.Variable(tf.truncated_normal([5, 5, NUM_CHANNELS, 64], stddev=0.05, seed=SEED)),  # 5x5 filter, depth 64\n",
    "                'c2' : tf.Variable(tf.truncated_normal([5, 5, 64, 64], stddev=0.05, seed=SEED))\n",
    "               }\n",
    "\n",
    "conv_biases = {'cb1' : tf.Variable(tf.constant(0.1, shape=[64])), # start with a tensor with all values = 0.1\n",
    "               'cb2' : tf.Variable(tf.constant(0.1, shape=[64]))\n",
    "              }\n",
    "\n",
    "fc_weights = {'fc1' : tf.Variable(tf.truncated_normal([IMAGE_SIZE // 4 * IMAGE_SIZE // 4 * 64, 384], stddev=0.05, seed=SEED)),\n",
    "              'fc2' : tf.Variable(tf.truncated_normal([384, 192], stddev=0.05,seed=SEED)),\n",
    "              'fc3' : tf.Variable(tf.truncated_normal([192, NUM_LABELS], stddev=0.05, seed = SEED)),\n",
    "             }\n",
    "\n",
    "fc_biases = {'fcb1' : tf.Variable(tf.constant(0.1, shape=[384])),\n",
    "            'fcb2' : tf.Variable(tf.constant(0.1, shape=[192])),\n",
    "            'fcb3' : tf.Variable(tf.constant(0.1, shape=[NUM_LABELS]))\n",
    "            }"
   ]
  },
  {
   "cell_type": "markdown",
   "metadata": {},
   "source": [
    "### Put together your model graph"
   ]
  },
  {
   "cell_type": "code",
   "execution_count": 12,
   "metadata": {
    "collapsed": true
   },
   "outputs": [],
   "source": [
    "def feed_forward(data, train=False):\n",
    "    \"\"\"The Model definition.\"\"\"\n",
    "    # 2D convolution, with 'SAME' padding (i.e. the output feature map has\n",
    "    # the same size as the input). Note that {strides} is a 4D array whose\n",
    "    # shape matches the data layout: [image index, y, x, depth].\n",
    "    conv1 = tf.nn.conv2d(data,\n",
    "                        conv_weights['c1'],\n",
    "                        strides=[1, 1, 1, 1],\n",
    "                        padding='SAME')\n",
    "\n",
    "    # Bias and rectified linear non-linearity.\n",
    "    relu1 = tf.nn.relu(tf.nn.bias_add(conv1, conv_biases['cb1']))\n",
    "\n",
    "    # Max pooling. The kernel size spec ksize also follows the layout of\n",
    "    # the data. Here we have a pooling window of 2, and a stride of 2.\n",
    "    pool1 = tf.nn.max_pool(relu1,\n",
    "                          ksize=[1, 3, 3, 1],\n",
    "                          strides=[1, 2, 2, 1],\n",
    "                          padding='SAME')\n",
    "    \n",
    "    norm1 = tf.nn.lrn(pool1, 4, bias=1.0, alpha=0.001 / 9.0, beta=0.75, name='norm1')\n",
    "    \n",
    "    # second convolutional layer, activation, pooling, and normalization\n",
    "    conv2 = tf.nn.conv2d(norm1,\n",
    "                        conv_weights['c2'],\n",
    "                        strides=[1, 1, 1, 1],\n",
    "                        padding='SAME')\n",
    "    relu2 = tf.nn.relu(tf.nn.bias_add(conv2, conv_biases['cb1']))\n",
    "    norm2 = tf.nn.lrn(relu2, 4, bias=1.0, alpha=0.001 / 9.0, beta=0.75, name='norm2')\n",
    "    \n",
    "    pool2 = tf.nn.max_pool(norm2, ksize=[1, 3, 3, 1],\n",
    "                          strides=[1, 2, 2, 1], \n",
    "                          padding='SAME', name='pool2')\n",
    "\n",
    "\n",
    "    # Reshape the feature map cuboid into a 2D matrix to feed it to the\n",
    "    # fully connected layers.\n",
    "    pool_shape = pool2.get_shape().as_list()\n",
    "    reshape = tf.reshape(pool2, [tf.shape(pool2)[0], int(pool_shape[1] * pool_shape[2] * pool_shape[3])])\n",
    "\n",
    "  \n",
    "    # Fully connected layer. Note that the '+' operation automatically\n",
    "    # broadcasts the biases.\n",
    "    fc1 = tf.nn.relu(tf.matmul(reshape, fc_weights['fc1']) + fc_biases['fcb1'])\n",
    "    \n",
    "    fc2 = tf.nn.relu(tf.matmul(fc1, fc_weights['fc2']) + fc_biases['fcb2'])\n",
    "\n",
    "    # Add a 50% dropout during training only. Dropout also scales\n",
    "    # activations such that no rescaling is needed at evaluation time.\n",
    "    if train:\n",
    "        fc1 = tf.nn.dropout(fc1, 0.5, seed=SEED)\n",
    "        fc2 = tf.nn.dropout(fc2, 0.5, seed=SEED)\n",
    "        \n",
    "    return tf.matmul(fc2, fc_weights['fc3']) + fc_biases['fcb3']"
   ]
  },
  {
   "cell_type": "markdown",
   "metadata": {},
   "source": [
    "#### Model prediction\n",
    "\n",
    "Use the feed_forward operation to get predictions on your inputs (X)"
   ]
  },
  {
   "cell_type": "code",
   "execution_count": 13,
   "metadata": {
    "collapsed": true
   },
   "outputs": [],
   "source": [
    "logits = feed_forward(X)"
   ]
  },
  {
   "cell_type": "markdown",
   "metadata": {},
   "source": [
    "#### Loss operation\n",
    "\n",
    "Define your loss operation. This is a multi-class classification, just like the previous exercise....you should refer back if you aren't sure what to do here."
   ]
  },
  {
   "cell_type": "code",
   "execution_count": 14,
   "metadata": {
    "collapsed": true
   },
   "outputs": [],
   "source": [
    "# Define the loss operation\n",
    "loss_op = tf.reduce_mean(tf.nn.softmax_cross_entropy_with_logits(logits=logits, labels=Y))"
   ]
  },
  {
   "cell_type": "markdown",
   "metadata": {},
   "source": [
    "#### Optimizer and training operation\n",
    "\n",
    "Define an optimizer and a train_op. I suggest starting with the [Adam Optimizer](https://www.tensorflow.org/api_docs/python/tf/train/AdamOptimizer) with the parameters below, but you can try different optimizers as you tune this model."
   ]
  },
  {
   "cell_type": "code",
   "execution_count": 15,
   "metadata": {
    "collapsed": true
   },
   "outputs": [],
   "source": [
    "# Optimizer hyperparameters, can be tuned\n",
    "LEARNING_RATE = 0.002\n",
    "BETA1 = 0.9\n",
    "BETA2 = 0.999\n",
    "EPSILON = 1e-08\n",
    "\n",
    "# Define the optimizer operation\n",
    "optimizer = tf.train.AdamOptimizer(learning_rate=LEARNING_RATE,\n",
    "                                  beta1=BETA1,\n",
    "                                  beta2=BETA2,\n",
    "                                  epsilon=EPSILON,\n",
    "                                  )\n",
    "\n",
    "train_op = optimizer.minimize(loss_op)"
   ]
  },
  {
   "cell_type": "markdown",
   "metadata": {},
   "source": [
    "#### Accuracy metric\n",
    "\n",
    "Since the loss function is a little hard to interpret, let's code an accuracy metric so we can get a better idea how our model is doing. We also did this in the previous exercise."
   ]
  },
  {
   "cell_type": "code",
   "execution_count": 16,
   "metadata": {
    "collapsed": true
   },
   "outputs": [],
   "source": [
    "# Define a custom accuracy operation\n",
    "correct_pred = tf.equal(tf.argmax(logits, 1), tf.argmax(Y, 1))\n",
    "accuracy = tf.reduce_mean(tf.cast(correct_pred, tf.float32))"
   ]
  },
  {
   "cell_type": "markdown",
   "metadata": {},
   "source": [
    "Initialize the variables!"
   ]
  },
  {
   "cell_type": "code",
   "execution_count": 17,
   "metadata": {
    "collapsed": true
   },
   "outputs": [],
   "source": [
    "# Initialize the variables (i.e. assign their default value)\n",
    "init = tf.global_variables_initializer()"
   ]
  },
  {
   "cell_type": "markdown",
   "metadata": {},
   "source": [
    "### Training the model \n",
    "\n",
    "Fill out the function below to train your model using the subsampled data. (Use the subsets in the feed dicts!) \n",
    "\n",
    "Note that with the model parameters as defined, this model will overfit to the training set, even with regularization. Once you get your code running, you should change the model hyperparamters and/or architecture to try and improve your results. "
   ]
  },
  {
   "cell_type": "code",
   "execution_count": 18,
   "metadata": {
    "collapsed": true
   },
   "outputs": [],
   "source": [
    "def train_subset(num_epochs): \n",
    "    \"\"\"Function that trains model on subsets of CIFAR10 data\"\"\"\n",
    "    train_size = train_labels_small.shape[0]\n",
    "    steps = num_epochs * train_size // BATCH_SIZE\n",
    "    steps_per_epoch = train_size // BATCH_SIZE\n",
    "          \n",
    "    with tf.Session() as sess:\n",
    "\n",
    "        # Run the initializer\n",
    "        sess.run(init)    \n",
    "          \n",
    "        for step in range(steps):\n",
    "            # Compute the offset of the current minibatch in the data.\n",
    "            # Note that we could use better randomization across epochs.\n",
    "            offset = (step * BATCH_SIZE) % (train_size - BATCH_SIZE)\n",
    "            batch_data = train_images_small[offset:(offset + BATCH_SIZE), :, :, :]\n",
    "            batch_labels = train_labels_small[offset:(offset + BATCH_SIZE)]\n",
    "          \n",
    "            # Run the training operation to update the weights, use a feed_dict to use the batches you created above\n",
    "            sess.run(train_op, feed_dict={X: batch_data, Y: batch_labels})\n",
    "        \n",
    "            # display output if desired\n",
    "            if step % steps_per_epoch == 0:\n",
    "                # Calculate batch loss and accuracy\n",
    "                # You can run multiple operations using a list\n",
    "                loss, acc = sess.run([loss_op, accuracy], feed_dict={X: batch_data,\n",
    "                                                                     Y: batch_labels})\n",
    "                print(\"Epoch {}, Minibatch Loss = {:.4f}, Training Accuracy = {:.3f}\".format(str(step//steps_per_epoch),\n",
    "                                                                               loss, \n",
    "                                                                               acc)) \n",
    "            \n",
    "                val_acc = sess.run(accuracy, feed_dict = {X: validation_images_small,\n",
    "                                                          Y: validation_labels_small})\n",
    "                print(\"Validation accuracy : {}\".format(val_acc))\n",
    "\n",
    "        print(\"Optimization Finished!\")\n",
    "          \n",
    "        # Run the accuracy operations for the CIFAR10 test images\n",
    "        test_acc = sess.run(accuracy, feed_dict={X: test_images_small,\n",
    "                                                 Y: test_labels_small})\n",
    "        print(\"Test Accuracy : {}\".format(test_acc))"
   ]
  },
  {
   "cell_type": "code",
   "execution_count": 19,
   "metadata": {},
   "outputs": [
    {
     "name": "stdout",
     "output_type": "stream",
     "text": [
      "Epoch 0, Minibatch Loss = 2.5434, Training Accuracy = 0.140\n",
      "Validation accuracy : 0.0949999988079071\n",
      "Epoch 1, Minibatch Loss = 1.9938, Training Accuracy = 0.300\n",
      "Validation accuracy : 0.257999986410141\n",
      "Epoch 2, Minibatch Loss = 1.3816, Training Accuracy = 0.420\n",
      "Validation accuracy : 0.4050000011920929\n",
      "Epoch 3, Minibatch Loss = 1.5658, Training Accuracy = 0.480\n",
      "Validation accuracy : 0.4189999997615814\n",
      "Epoch 4, Minibatch Loss = 1.4196, Training Accuracy = 0.480\n",
      "Validation accuracy : 0.39800000190734863\n",
      "Epoch 5, Minibatch Loss = 1.2586, Training Accuracy = 0.560\n",
      "Validation accuracy : 0.43799999356269836\n",
      "Epoch 6, Minibatch Loss = 1.3181, Training Accuracy = 0.540\n",
      "Validation accuracy : 0.3779999911785126\n",
      "Epoch 7, Minibatch Loss = 0.8776, Training Accuracy = 0.700\n",
      "Validation accuracy : 0.43700000643730164\n",
      "Epoch 8, Minibatch Loss = 1.1379, Training Accuracy = 0.640\n",
      "Validation accuracy : 0.4480000138282776\n",
      "Epoch 9, Minibatch Loss = 0.8644, Training Accuracy = 0.700\n",
      "Validation accuracy : 0.453000009059906\n",
      "Epoch 10, Minibatch Loss = 0.7800, Training Accuracy = 0.700\n",
      "Validation accuracy : 0.46700000762939453\n",
      "Epoch 11, Minibatch Loss = 0.6397, Training Accuracy = 0.780\n",
      "Validation accuracy : 0.4449999928474426\n",
      "Epoch 12, Minibatch Loss = 0.6063, Training Accuracy = 0.780\n",
      "Validation accuracy : 0.4259999990463257\n",
      "Epoch 13, Minibatch Loss = 0.6050, Training Accuracy = 0.800\n",
      "Validation accuracy : 0.46799999475479126\n",
      "Epoch 14, Minibatch Loss = 0.4781, Training Accuracy = 0.900\n",
      "Validation accuracy : 0.42899999022483826\n",
      "Epoch 15, Minibatch Loss = 0.6607, Training Accuracy = 0.760\n",
      "Validation accuracy : 0.4320000112056732\n",
      "Epoch 16, Minibatch Loss = 0.5321, Training Accuracy = 0.780\n",
      "Validation accuracy : 0.4269999861717224\n",
      "Epoch 17, Minibatch Loss = 0.2490, Training Accuracy = 0.920\n",
      "Validation accuracy : 0.4339999854564667\n",
      "Epoch 18, Minibatch Loss = 0.4360, Training Accuracy = 0.840\n",
      "Validation accuracy : 0.44200000166893005\n",
      "Epoch 19, Minibatch Loss = 0.2430, Training Accuracy = 0.940\n",
      "Validation accuracy : 0.42500001192092896\n",
      "Optimization Finished!\n",
      "Test Accuracy : 0.43799999356269836\n"
     ]
    }
   ],
   "source": [
    "train_subset(20)"
   ]
  },
  {
   "cell_type": "markdown",
   "metadata": {},
   "source": [
    "### Train on the full dataset\n",
    "\n",
    "When you have an architecture you like, try training the model on the full dataset. This function should look just like the train_subset function, but you should use the full training, validation, and test sets in the feed dict."
   ]
  },
  {
   "cell_type": "code",
   "execution_count": 21,
   "metadata": {
    "collapsed": true
   },
   "outputs": [],
   "source": [
    "def train(num_epochs): \n",
    "    \"\"\"Function that trains model on subsets of CIFAR10 data\"\"\"\n",
    "    train_size = train_labels_small.shape[0]\n",
    "    steps = num_epochs * train_size // BATCH_SIZE\n",
    "    steps_per_epoch = train_size // BATCH_SIZE\n",
    "          \n",
    "    with tf.Session() as sess:\n",
    "\n",
    "        # Run the initializer\n",
    "        sess.run(init)    \n",
    "          \n",
    "        for step in range(steps):\n",
    "            # Compute the offset of the current minibatch in the data.\n",
    "            # Note that we could use better randomization across epochs.\n",
    "            offset = (step * BATCH_SIZE) % (train_size - BATCH_SIZE)\n",
    "            batch_data = train_images[offset:(offset + BATCH_SIZE), :, :, :]\n",
    "            batch_labels = train_labels[offset:(offset + BATCH_SIZE)]\n",
    "          \n",
    "            # Run the training operation to update the weights, use a feed_dict to use the batches you created above\n",
    "            sess.run(train_op, feed_dict={X: batch_data, Y: batch_labels})\n",
    "        \n",
    "            # display output if desired\n",
    "            if step % steps_per_epoch == 0:\n",
    "                # Calculate batch loss and accuracy\n",
    "                # You can run multiple operations using a list\n",
    "                loss, acc = sess.run([loss_op, accuracy], feed_dict={X: batch_data,\n",
    "                                                                     Y: batch_labels})\n",
    "                print(\"Epoch \" + str(step//steps_per_epoch) + \", Minibatch Loss= \" + \\\n",
    "                      \"{:.4f}\".format(loss) + \", Training Accuracy= \" + \\\n",
    "                      \"{:.3f}\".format(acc))\n",
    "            \n",
    "                val_acc = sess.run(accuracy, feed_dict = {X: validation_images,\n",
    "                                                            Y: validation_labels})\n",
    "                print(\"Validation accuracy : {}\".format(val_acc))\n",
    "\n",
    "        print(\"Optimization Finished!\")\n",
    "          \n",
    "        # Run the accuracy operations for the CIFAR10 test images\n",
    "        test_acc = sess.run(accuracy, feed_dict={X: test_images,\n",
    "                                                 Y: test_labels})\n",
    "        print(\"Test Accuracy : {}\".format(test_acc))"
   ]
  },
  {
   "cell_type": "code",
   "execution_count": 22,
   "metadata": {},
   "outputs": [
    {
     "name": "stdout",
     "output_type": "stream",
     "text": [
      "Epoch 0, Minibatch Loss= 2.9238, Training Accuracy= 0.220\n",
      "Validation accuracy : 0.10300000011920929\n",
      "Epoch 1, Minibatch Loss= 1.8498, Training Accuracy= 0.360\n",
      "Validation accuracy : 0.299699991941452\n",
      "Epoch 2, Minibatch Loss= 1.5656, Training Accuracy= 0.520\n",
      "Validation accuracy : 0.3528999984264374\n",
      "Epoch 3, Minibatch Loss= 1.9043, Training Accuracy= 0.320\n",
      "Validation accuracy : 0.39719998836517334\n",
      "Epoch 4, Minibatch Loss= 1.7436, Training Accuracy= 0.340\n",
      "Validation accuracy : 0.4115999937057495\n",
      "Epoch 5, Minibatch Loss= 1.4417, Training Accuracy= 0.500\n",
      "Validation accuracy : 0.4174000024795532\n",
      "Epoch 6, Minibatch Loss= 1.1176, Training Accuracy= 0.660\n",
      "Validation accuracy : 0.4203000068664551\n",
      "Epoch 7, Minibatch Loss= 1.4612, Training Accuracy= 0.480\n",
      "Validation accuracy : 0.4309999942779541\n",
      "Epoch 8, Minibatch Loss= 1.2230, Training Accuracy= 0.580\n",
      "Validation accuracy : 0.4189000129699707\n",
      "Epoch 9, Minibatch Loss= 1.1756, Training Accuracy= 0.520\n",
      "Validation accuracy : 0.40950000286102295\n",
      "Epoch 10, Minibatch Loss= 1.0004, Training Accuracy= 0.620\n",
      "Validation accuracy : 0.41119998693466187\n",
      "Epoch 11, Minibatch Loss= 1.2063, Training Accuracy= 0.600\n",
      "Validation accuracy : 0.43560001254081726\n",
      "Epoch 12, Minibatch Loss= 0.8151, Training Accuracy= 0.700\n",
      "Validation accuracy : 0.4433000087738037\n",
      "Epoch 13, Minibatch Loss= 0.9959, Training Accuracy= 0.600\n",
      "Validation accuracy : 0.43160000443458557\n",
      "Epoch 14, Minibatch Loss= 0.7384, Training Accuracy= 0.800\n",
      "Validation accuracy : 0.4399999976158142\n",
      "Epoch 15, Minibatch Loss= 0.4968, Training Accuracy= 0.800\n",
      "Validation accuracy : 0.4284999966621399\n",
      "Epoch 16, Minibatch Loss= 0.4339, Training Accuracy= 0.900\n",
      "Validation accuracy : 0.412200003862381\n",
      "Epoch 17, Minibatch Loss= 0.5674, Training Accuracy= 0.820\n",
      "Validation accuracy : 0.4056999981403351\n",
      "Epoch 18, Minibatch Loss= 0.3572, Training Accuracy= 0.880\n",
      "Validation accuracy : 0.41429999470710754\n",
      "Epoch 19, Minibatch Loss= 0.2828, Training Accuracy= 0.880\n",
      "Validation accuracy : 0.4108000099658966\n",
      "Optimization Finished!\n",
      "Test Accuracy : 0.39800000190734863\n"
     ]
    }
   ],
   "source": [
    "train(20)"
   ]
  },
  {
   "cell_type": "code",
   "execution_count": null,
   "metadata": {
    "collapsed": true
   },
   "outputs": [],
   "source": []
  },
  {
   "cell_type": "code",
   "execution_count": null,
   "metadata": {
    "collapsed": true
   },
   "outputs": [],
   "source": []
  }
 ],
 "metadata": {
  "kernelspec": {
   "display_name": "Python 3",
   "language": "python",
   "name": "python3"
  },
  "language_info": {
   "codemirror_mode": {
    "name": "ipython",
    "version": 3
   },
   "file_extension": ".py",
   "mimetype": "text/x-python",
   "name": "python",
   "nbconvert_exporter": "python",
   "pygments_lexer": "ipython3",
   "version": "3.6.4"
  }
 },
 "nbformat": 4,
 "nbformat_minor": 2
}
