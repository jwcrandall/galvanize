{
 "cells": [
  {
   "cell_type": "markdown",
   "metadata": {
    "collapsed": true
   },
   "source": [
    "# Exercise 1:  Multilayer perceptron on MNIST dataset\n",
    "\n",
    "Build a 2-hidden layer fully connected neural network (a.k.a multilayer perceptron) with TensorFlow to classify digits in the [MNIST dataset](https://en.wikipedia.org/wiki/MNIST_database).\n",
    "\n",
    "Adapted from Github User [aymericdamien](https://github.com/aymericdamien) with use governed by the [MIT license](https://opensource.org/licenses/MIT)."
   ]
  },
  {
   "cell_type": "markdown",
   "metadata": {},
   "source": [
    "## Multilayer Perceptron Overview\n",
    "\n",
    "<img src=\"http://cs231n.github.io/assets/nn1/neural_net2.jpeg\" alt=\"nn\" style=\"width: 400px;\"/>\n",
    "\n",
    "## MNIST Dataset Overview\n",
    "\n",
    "This example is using MNIST handwritten digits. The dataset contains 60,000 examples for training and 10,000 examples for testing. The digits have been size-normalized and centered in a fixed-size image (28x28 pixels) with values from 0 to 1. For simplicity, each image has been flattened and converted to a 1-D numpy array of 784 features (28*28).\n",
    "\n",
    "![MNIST Dataset](http://neuralnetworksanddeeplearning.com/images/mnist_100_digits.png)\n",
    "\n",
    "\n",
    "More info: http://yann.lecun.com/exdb/mnist/"
   ]
  },
  {
   "cell_type": "markdown",
   "metadata": {},
   "source": [
    "#### Imports"
   ]
  },
  {
   "cell_type": "code",
   "execution_count": null,
   "metadata": {
    "collapsed": true
   },
   "outputs": [],
   "source": [
    "import tensorflow as tf\n",
    "import matplotlib.pyplot as plt"
   ]
  },
  {
   "cell_type": "markdown",
   "metadata": {},
   "source": [
    "#### Import the MNIST data"
   ]
  },
  {
   "cell_type": "code",
   "execution_count": null,
   "metadata": {
    "collapsed": true
   },
   "outputs": [],
   "source": [
    "from tensorflow.examples.tutorials.mnist import input_data\n",
    "mnist = input_data.read_data_sets(\"/tmp/data/\", one_hot=True)"
   ]
  },
  {
   "cell_type": "markdown",
   "metadata": {},
   "source": [
    "#### What does the data look like?"
   ]
  },
  {
   "cell_type": "code",
   "execution_count": null,
   "metadata": {
    "collapsed": true
   },
   "outputs": [],
   "source": [
    "print(\"Shape of the training set: \", mnist.train.images.shape)\n",
    "print(\"Shape of the test set: \", mnist.test.images.shape)"
   ]
  },
  {
   "cell_type": "code",
   "execution_count": null,
   "metadata": {
    "collapsed": true
   },
   "outputs": [],
   "source": [
    "# Look at one image\n",
    "img = 0 # feel free to modify\n",
    "print(\"The shape of one image is: \", mnist.train.images[0].shape)\n",
    "print(\"The maximum pixel intensity in the selected image is: \", mnist.train.images[0].max())\n",
    "print(\"The minimum pixel intensity in the selected image is: \", mnist.train.images[0].min())\n",
    "print(\"The one-hot encoded label for this image is: \")\n",
    "print(\"[ 0   1   2   3   4   5   6   7   8   9]\")\n",
    "print(mnist.train.labels[img])\n",
    "print(\"\\nMade into a 28 x 28 pixel image the image looks like:\")\n",
    "plt.imshow(mnist.train.images[img].reshape(28, 28), cmap = 'gray');"
   ]
  },
  {
   "cell_type": "markdown",
   "metadata": {},
   "source": [
    "#### Set model and network parameters"
   ]
  },
  {
   "cell_type": "code",
   "execution_count": null,
   "metadata": {
    "collapsed": true
   },
   "outputs": [],
   "source": [
    "# Parameters\n",
    "learning_rate = 0.5  # ??, tuneable parameter adusting how much weights are updated\n",
    "num_epochs = 100     # ??, how many times will we pass through the whole dataset during training\n",
    "batch_size = 512     # ??, how many rows of data during training should a weight update be based on\n",
    "display_epoch = 100  # ??, after how many epochs would we like to see training results"
   ]
  },
  {
   "cell_type": "code",
   "execution_count": null,
   "metadata": {
    "collapsed": true
   },
   "outputs": [],
   "source": [
    "# Network Parameters\n",
    "n_hidden_1 = 50 # ??, 1st layer number of neurons \n",
    "n_hidden_2 = 50 # ??, 2nd layer number of neurons\n",
    "num_input = 784 # MNIST data input (img shape: 28*28)\n",
    "num_classes = 10 # MNIST total classes (0-9 digits)"
   ]
  },
  {
   "cell_type": "markdown",
   "metadata": {},
   "source": [
    "#### Define the tensors (constants, placeholders, variables)\n",
    "See tensorflow [placeholders.](https://www.tensorflow.org/api_docs/python/tf/placeholder)"
   ]
  },
  {
   "cell_type": "code",
   "execution_count": null,
   "metadata": {
    "collapsed": true
   },
   "outputs": [],
   "source": [
    "# make tensor placeholders for the input and output\n",
    "# assume they are floats for both input and output of nondimensional shape and the length of interest\n",
    "# i.e. shape=(None, length_of_interset)\n",
    "X = \n",
    "Y = "
   ]
  },
  {
   "cell_type": "markdown",
   "metadata": {},
   "source": [
    "See [Variables](https://www.tensorflow.org/api_docs/python/tf/Variable)\n",
    "and [random_normal.](https://www.tensorflow.org/api_docs/python/tf/random_normal)"
   ]
  },
  {
   "cell_type": "code",
   "execution_count": null,
   "metadata": {
    "collapsed": true
   },
   "outputs": [],
   "source": [
    "# make variable tensors for the weights and biases\n",
    "# make sure to make them the right shape!\n",
    "weights = {\n",
    "    'h1': \n",
    "    'h2': \n",
    "    'out': \n",
    "}\n",
    "biases = {\n",
    "    'b1': \n",
    "    'b2': \n",
    "    'out': \n",
    "}"
   ]
  },
  {
   "cell_type": "markdown",
   "metadata": {},
   "source": [
    "#### Define the operations\n",
    "See [add](https://www.tensorflow.org/api_docs/python/tf/add), [multiply](https://www.tensorflow.org/api_docs/python/tf/matmul), and the [sigmoid](https://www.tensorflow.org/api_docs/python/tf/sigmoid) operations."
   ]
  },
  {
   "cell_type": "code",
   "execution_count": null,
   "metadata": {
    "collapsed": true
   },
   "outputs": [],
   "source": [
    "# define, using operations, the feed-forward calculation of layer values\n",
    "def feed_forward(x):\n",
    "    # First hidden fully connected layer\n",
    "    z1 = # sum of dot product and bias\n",
    "    a1 = # activation of z1\n",
    "    # Second hidden fully connected layer\n",
    "    z2 = \n",
    "    a2 = \n",
    "    # Output fully connected layer with a neuron for each class\n",
    "    out =      # don't activate this one\n",
    "    return out"
   ]
  },
  {
   "cell_type": "code",
   "execution_count": null,
   "metadata": {
    "collapsed": true
   },
   "outputs": [],
   "source": [
    "# Using the feed_forward operation, get the predictions on your inputs (X)\n",
    "logits = "
   ]
  },
  {
   "cell_type": "markdown",
   "metadata": {},
   "source": [
    "Define the loss, see the [softmax](https://en.wikipedia.org/wiki/Softmax_function) and [cross_entropy](https://en.wikipedia.org/wiki/Cross_entropy) definitions."
   ]
  },
  {
   "cell_type": "code",
   "execution_count": null,
   "metadata": {
    "collapsed": true
   },
   "outputs": [],
   "source": [
    "# Define the loss operation and optimizer\n",
    "loss_op = tf.reduce_mean(tf.nn.softmax_cross_entropy_with_logits(\n",
    "    logits=logits, labels=Y))"
   ]
  },
  {
   "cell_type": "markdown",
   "metadata": {},
   "source": [
    "There are many optimizers available.  Here's a subset: [GradientDescentOptimizer](https://www.tensorflow.org/versions/master/api_docs/python/tf/train/GradientDescentOptimizer), [AdadeltaOptimizer](https://www.tensorflow.org/versions/master/api_docs/python/tf/train/AdadeltaOptimizer), [AdamOptimizer.](https://www.tensorflow.org/versions/master/api_docs/python/tf/train/AdamOptimizer)"
   ]
  },
  {
   "cell_type": "code",
   "execution_count": null,
   "metadata": {
    "collapsed": true
   },
   "outputs": [],
   "source": [
    "# Define the optimizer operation\n",
    "optimizer = \n",
    "train_op = optimizer.minimize(loss_op)"
   ]
  },
  {
   "cell_type": "code",
   "execution_count": null,
   "metadata": {
    "collapsed": true
   },
   "outputs": [],
   "source": [
    "# Define a custom accuracy operation\n",
    "correct_pred = tf.equal(tf.argmax(logits, 1), tf.argmax(Y, 1))\n",
    "accuracy = tf.reduce_mean(tf.cast(correct_pred, tf.float32))"
   ]
  },
  {
   "cell_type": "markdown",
   "metadata": {},
   "source": [
    "#### Can finally initialize the variables"
   ]
  },
  {
   "cell_type": "code",
   "execution_count": null,
   "metadata": {
    "collapsed": true
   },
   "outputs": [],
   "source": [
    "# Initialize the variables (i.e. assign their default value)\n",
    "init = "
   ]
  },
  {
   "cell_type": "markdown",
   "metadata": {},
   "source": [
    "#### Start a session and train and test"
   ]
  },
  {
   "cell_type": "code",
   "execution_count": null,
   "metadata": {
    "collapsed": true
   },
   "outputs": [],
   "source": [
    "# Start training\n",
    "with tf.Session() as sess:\n",
    "\n",
    "    # Run the initializer\n",
    "    sess. FINISH CODE\n",
    "\n",
    "    for epoch in range(1, num_epochs+1):\n",
    "        # get a minibatch to train on\n",
    "        batch_x, batch_y = mnist.train.next_batch(batch_size)\n",
    "        \n",
    "        # Run the training operation to update the weights, use a feed_dict to use batch_x and batch_y\n",
    "        sess.run(train_op, feed_dict={X: batch_x, Y: batch_y})\n",
    "        \n",
    "        # display output if desired\n",
    "        if epoch % display_epoch == 0 or epoch == 1:\n",
    "            # Calculate batch loss and accuracy\n",
    "            # You can run multiple operations using a list\n",
    "            # as above, use a feed dictionary for batch_x, batch_y\n",
    "            loss, acc = sess. FINISH CODE\n",
    "                                                                 \n",
    "            print(\"Epoch \" + str(epoch) + \", Minibatch Loss= \" + \\\n",
    "                  \"{:.4f}\".format(loss) + \", Training Accuracy= \" + \\\n",
    "                  \"{:.3f}\".format(acc))\n",
    "\n",
    "    print(\"Optimization Finished!\")\n",
    "\n",
    "    # Run the accuracy operations for the MNIST test images\n",
    "    print(\"Testing Accuracy:\", \\\n",
    "        sess. FINISH CODE"
   ]
  },
  {
   "cell_type": "code",
   "execution_count": null,
   "metadata": {
    "collapsed": true
   },
   "outputs": [],
   "source": [
    "\n"
   ]
  }
 ],
 "metadata": {
  "anaconda-cloud": {},
  "kernelspec": {
   "display_name": "Python 3",
   "language": "python",
   "name": "python3"
  },
  "language_info": {
   "codemirror_mode": {
    "name": "ipython",
    "version": 3
   },
   "file_extension": ".py",
   "mimetype": "text/x-python",
   "name": "python",
   "nbconvert_exporter": "python",
   "pygments_lexer": "ipython3",
   "version": "3.6.3"
  }
 },
 "nbformat": 4,
 "nbformat_minor": 1
}
