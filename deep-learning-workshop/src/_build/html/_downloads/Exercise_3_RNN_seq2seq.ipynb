{
 "cells": [
  {
   "cell_type": "markdown",
   "metadata": {},
   "source": [
    "# Simple seq2seq example using LSTMs with TensorFlow"
   ]
  },
  {
   "cell_type": "markdown",
   "metadata": {},
   "source": [
    "Based on Matvey Ezhov's [materials](https://github.com/ematvey/tensorflow-seq2seq-tutorials) under the [MIT License](https://opensource.org/licenses/MIT)\n"
   ]
  },
  {
   "cell_type": "markdown",
   "metadata": {},
   "source": [
    "This exercise helps you implement a basic seq2seq model comprised of a forward-only encoder - decoder, based on the architecture described in [Sutskever, Vinyals and Le (2014)](https://arxiv.org/abs/1409.3215)."
   ]
  },
  {
   "cell_type": "markdown",
   "metadata": {},
   "source": [
    "Architecture diagram from their paper:\n",
    "![seq2seq architecutre](seq2seq.png)\n",
    "Rectangles are encoder and decoder's recurrent layers. The sequence `[A, B, C]` is the **encoder input**.  The encoder's hidden state changes while reading the sequence.  After input sequence ends (indicated by `<EOS>`), the encoder passes its final state to decoder, which receives `[<EOS>, W, X, Y, Z]` as the **decoder input** and is trained to the **decoder output** `[W, X, Y, Z, <EOS>]`. `<EOS>` token is a special word in vocabulary that signals to decoder the beginning of translation."
   ]
  },
  {
   "cell_type": "markdown",
   "metadata": {},
   "source": [
    "## Vocabulary\n",
    "\n",
    "Seq2seq maps one sequence onto another sequence. Both sequences consist of integers from a fixed range. In language tasks, integers usually correspond to words: we first construct a vocabulary by assigning to every word in our corpus a serial integer. First few integers are reserved for special tokens. We'll call the upper bound on vocabulary a `vocabulary size`.\n",
    "\n",
    "A lot of processing goes into making text into numbers.  To simplify things, this notebook will focus instead on trying to learn a sequence of numbers."
   ]
  },
  {
   "cell_type": "code",
   "execution_count": null,
   "metadata": {
    "collapsed": true
   },
   "outputs": [],
   "source": [
    "# For instance, here are four separate sequences, all of different lengths\n",
    "x = [[5, 7, 8], [6, 3], [3], [1]]\n",
    "for i, seq in enumerate(x):\n",
    "    print(\"Sequence {0}: {1}\".format(i,seq))"
   ]
  },
  {
   "cell_type": "markdown",
   "metadata": {},
   "source": [
    "While manipulating such variable-length lists are convenient to humans, RNNs prefer a different layout called **time-major** where sequences are found in the columns of a matrix of size `[max_time, batch_size].`  Sequences shorter than the longest one are padded with zeros at the end. "
   ]
  },
  {
   "cell_type": "code",
   "execution_count": null,
   "metadata": {
    "collapsed": true
   },
   "outputs": [],
   "source": [
    "import helpers  # uses helper file - check out at you leisure\n",
    "xt, xlen = helpers.batch(x)"
   ]
  },
  {
   "cell_type": "code",
   "execution_count": null,
   "metadata": {
    "collapsed": true
   },
   "outputs": [],
   "source": [
    "for i, batch in enumerate(xt):\n",
    "    print(\"Time {0}: {1}\".format(i,batch))"
   ]
  },
  {
   "cell_type": "code",
   "execution_count": null,
   "metadata": {
    "collapsed": true
   },
   "outputs": [],
   "source": [
    "print(\"The length of each sequence in each column:\")\n",
    "print(xlen)"
   ]
  },
  {
   "cell_type": "markdown",
   "metadata": {},
   "source": [
    "# Building a model"
   ]
  },
  {
   "cell_type": "markdown",
   "metadata": {},
   "source": [
    "## Simple seq2seq"
   ]
  },
  {
   "cell_type": "markdown",
   "metadata": {},
   "source": [
    "The encoder (an LSTM) starts with an initial state and runs through the input sequence until it reaches its `final_state`.\n",
    "\n",
    "The decoder uses the encoder's `final_state` as its `initial_state`.\n",
    "\n",
    "Therefore there are **encoder inputs** and **decoder inputs** and **decoder targets.** The decoder's outputs are mapped onto the output space using a `[hidden_units x output_vocab_size]` size matrix. \n",
    "\n",
    "Both the encoder and decoder are trying to learn sequences.  Tensorflow's [LSTMCells](https://www.tensorflow.org/api_docs/python/tf/contrib/rnn/LSTMCell) will be used to model the sequences."
   ]
  },
  {
   "cell_type": "markdown",
   "metadata": {},
   "source": [
    "#### Imports "
   ]
  },
  {
   "cell_type": "code",
   "execution_count": null,
   "metadata": {
    "collapsed": true
   },
   "outputs": [],
   "source": [
    "# imports\n",
    "# import numpy, tensorflow, and also import helpers (like we did above in this worksheet)\n",
    "# remember conventions for importing numpy and tensorflow\n",
    "\n"
   ]
  },
  {
   "cell_type": "code",
   "execution_count": null,
   "metadata": {
    "collapsed": true
   },
   "outputs": [],
   "source": [
    "# what version of tensorflow are you running?\n",
    "tf.__version__"
   ]
  },
  {
   "cell_type": "markdown",
   "metadata": {},
   "source": [
    "### Model inputs and outputs "
   ]
  },
  {
   "cell_type": "markdown",
   "metadata": {},
   "source": [
    "First critical thing to decide: vocabulary size.\n",
    "\n",
    "Dynamic RNN models can be adapted to different batch sizes and sequence lengths without retraining, but changing vocabulary size requires retraining the model."
   ]
  },
  {
   "cell_type": "code",
   "execution_count": null,
   "metadata": {
    "collapsed": true
   },
   "outputs": [],
   "source": [
    "PAD = 0 # if a sequence is short, what should it be padded with to get it up to some desired length?\n",
    "EOS = 1 # what signifies the end of a sequence\n",
    "\n",
    "vocab_size = ??  # how many different single digit numbers could we see? 0,1,2,3,5,6,7,8,9"
   ]
  },
  {
   "cell_type": "markdown",
   "metadata": {},
   "source": [
    "## Define the tensors\n",
    "Remember to use tf.placeholder.  Generally the shape will be `(max_time, batch_size)` but the values of max_time and batch size may change so we want to initialize them with [unknown shapes.](https://www.tensorflow.org/api_docs/python/tf/TensorShape) For datatype use 32 bit integers."
   ]
  },
  {
   "cell_type": "code",
   "execution_count": null,
   "metadata": {
    "collapsed": true
   },
   "outputs": [],
   "source": [
    "encoder_inputs = ??\n",
    "decoder_inputs = ??\n",
    "decoder_targets = ??"
   ]
  },
  {
   "cell_type": "markdown",
   "metadata": {},
   "source": [
    "### Embeddings\n",
    "\n",
    "Let's give the `encoder` and `decoder` more meaningful inputs than just the sequence numbers. We can embed context (i.e. if 4 then 5 happens then 1 is probably next) into the inputs.  This process of embedding will take vectors that are sparse (filled with many zeros) and make then dense, which is required for the encoder and decoder RNNs.  Specifics of working with embeddings are nicely described in [official tutorial on embeddings](https://www.tensorflow.org/tutorials/word2vec/)."
   ]
  },
  {
   "cell_type": "markdown",
   "metadata": {},
   "source": [
    "First initialize the embedding matrix. Initializations are random. We rely on our end-to-end training to learn vector representations for the embeddings for the sequences of numbers jointly with encoder and decoder."
   ]
  },
  {
   "cell_type": "markdown",
   "metadata": {},
   "source": [
    "#### Initialize the embeddings as a tensorflow variable using a [random uniform](https://www.tensorflow.org/api_docs/python/tf/random_uniform) distribution between -1.0 and 1.0, datatype float.  Its shape should be (vocab_size, input_embedding_size)."
   ]
  },
  {
   "cell_type": "code",
   "execution_count": null,
   "metadata": {
    "collapsed": true
   },
   "outputs": [],
   "source": [
    "input_embedding_size = 5 # how many columns we think we'll need to capture the relationship between the numbers\n",
    "embeddings = ?? # you'll need a tensorflow variable initialized according to the instructions above"
   ]
  },
  {
   "cell_type": "markdown",
   "metadata": {},
   "source": [
    "## Define the operations\n",
    "Start with the embeddings.  In this case the seq2seq network will just be learning a sequence of digits, so the encoder inputs and the decoders inputs (and embeddings) are the same."
   ]
  },
  {
   "cell_type": "code",
   "execution_count": null,
   "metadata": {
    "collapsed": true
   },
   "outputs": [],
   "source": [
    "encoder_inputs_embedded = tf.nn.embedding_lookup(embeddings, encoder_inputs)\n",
    "decoder_inputs_embedded = tf.nn.embedding_lookup(embeddings, decoder_inputs)"
   ]
  },
  {
   "cell_type": "markdown",
   "metadata": {},
   "source": [
    "### Encoder\n",
    "\n",
    "The encoder is a [dynamic rnn](https://www.tensorflow.org/versions/master/api_docs/python/tf/nn/dynamic_rnn) comprised of [LSTMCells.](https://www.tensorflow.org/versions/master/api_docs/python/tf/contrib/rnn/LSTMCell) "
   ]
  },
  {
   "cell_type": "code",
   "execution_count": null,
   "metadata": {
    "collapsed": true
   },
   "outputs": [],
   "source": [
    "encoder_hidden_units = 15 # how many units in the LSTM cell?\n",
    "\n",
    "encoder_cell = ?? #use the LSTMCell and pass in the number of units\n",
    "\n",
    "_, encoder_final_state = tf.nn.dynamic_rnn(?? #the cell you just defined, \n",
    "                                           ?? #the embedded encoder inputs,\n",
    "                                           dtype=tf.float32,\n",
    "                                           time_major=True)"
   ]
  },
  {
   "cell_type": "markdown",
   "metadata": {},
   "source": [
    "The `encoder_final_state` is also called \"thought vector\".  In this simple seq2seq model this is the only point where Encoder passes information to Decoder.  Backpropagation through time (BPTT) algorithm will tune the model to pass enough information throught the thought vector for correct sequence output decoding."
   ]
  },
  {
   "cell_type": "code",
   "execution_count": null,
   "metadata": {
    "collapsed": true
   },
   "outputs": [],
   "source": [
    "encoder_final_state"
   ]
  },
  {
   "cell_type": "markdown",
   "metadata": {},
   "source": [
    "### Decoder\n",
    "\n",
    "The decoder is also a [dynamic rnn](https://www.tensorflow.org/versions/master/api_docs/python/tf/nn/dynamic_rnn) comprised of [LSTMCells.](https://www.tensorflow.org/versions/master/api_docs/python/tf/contrib/rnn/LSTMCell) \n",
    "Give it the same number of hidden units as the encoder."
   ]
  },
  {
   "cell_type": "code",
   "execution_count": null,
   "metadata": {
    "collapsed": true
   },
   "outputs": [],
   "source": [
    "decoder_hidden_units = ?? #same number of units as the encoder\n",
    "\n",
    "decoder_cell = ?? #just like the encoder\n",
    "\n",
    "decoder_outputs, decoder_final_state = tf.nn.dynamic_rnn(?? #cell you just defined,\n",
    "                                                         ?? #embedded decoder inputs,\n",
    "                                                         initial_state=encoder_final_state,\n",
    "                                                         dtype=tf.float32, \n",
    "                                                         time_major=True,\n",
    "                                                         scope=\"plain_decoder\",)"
   ]
  },
  {
   "cell_type": "markdown",
   "metadata": {},
   "source": [
    "At this point `decoder_cell` output is a `hidden_units` sized vector at every timestep. However, for training and prediction we need logits of size `vocab_size`. Reasonable thing would be to put linear layer (fully-connected layer without activation function) on top of LSTM output to get non-normalized logits. This layer is called projection layer by convention."
   ]
  },
  {
   "cell_type": "code",
   "execution_count": null,
   "metadata": {
    "collapsed": true
   },
   "outputs": [],
   "source": [
    "decoder_logits = tf.contrib.layers.linear(decoder_outputs, vocab_size)\n",
    "decoder_prediction = tf.argmax(decoder_logits, 2)"
   ]
  },
  {
   "cell_type": "code",
   "execution_count": null,
   "metadata": {
    "collapsed": true
   },
   "outputs": [],
   "source": [
    "decoder_logits"
   ]
  },
  {
   "cell_type": "markdown",
   "metadata": {},
   "source": [
    "RNN outputs tensor of shape `[max_time, batch_size, hidden_units]` which projection layer maps onto `[max_time, batch_size, vocab_size]`. `vocab_size` part of the shape is static, while `max_time` and `batch_size` are dynamic."
   ]
  },
  {
   "cell_type": "markdown",
   "metadata": {},
   "source": [
    "## Define the Loss and Optimizer\n",
    "For the loss get the [mean](https://www.tensorflow.org/versions/master/api_docs/python/tf/reduce_mean) stepwise_cross_entropy.  For the optimizer, think about using [Adam.](https://www.tensorflow.org/versions/master/api_docs/python/tf/train/AdamOptimizer)"
   ]
  },
  {
   "cell_type": "code",
   "execution_count": null,
   "metadata": {
    "collapsed": true
   },
   "outputs": [],
   "source": [
    "stepwise_cross_entropy = tf.nn.softmax_cross_entropy_with_logits(\n",
    "    labels=tf.one_hot(decoder_targets, depth=vocab_size, dtype=tf.float32),\n",
    "    logits=decoder_logits,\n",
    ")\n",
    "\n",
    "loss = ?? # how to define the loss\n",
    "train_op = ?? # how to define the optimizer"
   ]
  },
  {
   "cell_type": "markdown",
   "metadata": {},
   "source": [
    "### Make an initialize operation to initialize the variables"
   ]
  },
  {
   "cell_type": "code",
   "execution_count": null,
   "metadata": {
    "collapsed": true
   },
   "outputs": [],
   "source": [
    "# Initialize the variables (i.e. assign their default value)\n",
    "init = ?? "
   ]
  },
  {
   "cell_type": "markdown",
   "metadata": {},
   "source": [
    "## Training on a toy data set"
   ]
  },
  {
   "cell_type": "markdown",
   "metadata": {},
   "source": [
    "We will teach our model to memorize and reproduce input sequence. Sequences will be random, with varying length.\n",
    "\n",
    "Since random sequences do not contain any structure, model will not be able to exploit any patterns in data. It will simply encode sequence in a thought vector, then decode from it."
   ]
  },
  {
   "cell_type": "code",
   "execution_count": null,
   "metadata": {
    "collapsed": true
   },
   "outputs": [],
   "source": [
    "batch_size = 4\n",
    "\n",
    "batches = helpers.random_sequences(length_from=3, length_to=8,\n",
    "                                   vocab_lower=2, vocab_upper=10,\n",
    "                                   batch_size=batch_size)\n",
    "print('one batch:')\n",
    "for seq in next(batches):\n",
    "    print(seq)"
   ]
  },
  {
   "cell_type": "code",
   "execution_count": null,
   "metadata": {
    "collapsed": true
   },
   "outputs": [],
   "source": [
    "# from the batch it determines the encoder_input, the decoder_input, and the decoder_target\n",
    "def next_feed(prnt=False):\n",
    "    batch = next(batches)\n",
    "    if prnt:\n",
    "        print(\"The batch is:\")\n",
    "        for line in batch:\n",
    "            print(line)\n",
    "    encoder_inputs_, _ = helpers.batch(batch)\n",
    "    decoder_targets_, _ = helpers.batch(\n",
    "        [(sequence) + [EOS] for sequence in batch]\n",
    "    )\n",
    "    decoder_inputs_, _ = helpers.batch(\n",
    "        [[EOS] + (sequence) for sequence in batch]\n",
    "    )\n",
    "    return {\n",
    "        encoder_inputs: encoder_inputs_,\n",
    "        decoder_inputs: decoder_inputs_,\n",
    "        decoder_targets: decoder_targets_,\n",
    "    }"
   ]
  },
  {
   "cell_type": "code",
   "execution_count": null,
   "metadata": {
    "collapsed": true
   },
   "outputs": [],
   "source": [
    "test=next_feed(prnt=True)"
   ]
  },
  {
   "cell_type": "code",
   "execution_count": null,
   "metadata": {
    "collapsed": true
   },
   "outputs": [],
   "source": [
    "print(test[encoder_inputs])"
   ]
  },
  {
   "cell_type": "code",
   "execution_count": null,
   "metadata": {
    "collapsed": true
   },
   "outputs": [],
   "source": [
    "print(test[decoder_inputs])"
   ]
  },
  {
   "cell_type": "code",
   "execution_count": null,
   "metadata": {
    "collapsed": true
   },
   "outputs": [],
   "source": [
    "print(test[decoder_targets])"
   ]
  },
  {
   "cell_type": "markdown",
   "metadata": {},
   "source": [
    "## Start the session and train the model"
   ]
  },
  {
   "cell_type": "code",
   "execution_count": null,
   "metadata": {
    "collapsed": true,
    "scrolled": false
   },
   "outputs": [],
   "source": [
    "batch_size = 50\n",
    "\n",
    "batches = helpers.random_sequences(length_from=3, length_to=8,\n",
    "                                   vocab_lower=2, vocab_upper=10,\n",
    "                                   batch_size=batch_size)\n",
    "\n",
    "loss_track = []\n",
    "\n",
    "# Start training\n",
    "with tf.Session() as sess:\n",
    "\n",
    "    # Run the initializer\n",
    "    sess ?? #how to run the initializer?\n",
    "\n",
    "    max_batches = 2501\n",
    "    print_interval = 500\n",
    "\n",
    "    for batch in range(max_batches):\n",
    "        fd = next_feed()\n",
    "        _, l = sess.run([train_op, loss], ?? #need to pass in feed dictionary)\n",
    "        loss_track.append(l)\n",
    "\n",
    "        if batch == 0 or batch % print_interval == 0:\n",
    "            print('batch {}'.format(batch))\n",
    "            print('*'*40)\n",
    "            print('  minibatch loss: {0:0.3f}'.format(sess.run(loss, fd)))\n",
    "            predict_ = sess.run(decoder_prediction, fd)\n",
    "            for i, (inp, pred) in enumerate(zip(fd[encoder_inputs].T, predict_.T)):\n",
    "                print('  sample {}:'.format(i + 1))\n",
    "                print('    input     > {}'.format(inp))\n",
    "                print('    predicted > {}'.format(pred))\n",
    "                if i >= 2:\n",
    "                    break\n",
    "            print()"
   ]
  },
  {
   "cell_type": "code",
   "execution_count": null,
   "metadata": {
    "collapsed": true
   },
   "outputs": [],
   "source": [
    "%matplotlib inline\n",
    "import matplotlib.pyplot as plt\n",
    "plt.plot(loss_track)\n",
    "plt.ylabel('loss')\n",
    "plt.xlabel('epoch')\n",
    "print('loss {:.4f} after {} examples (batch_size={})'.format(loss_track[-1], len(loss_track)*batch_size, batch_size))"
   ]
  },
  {
   "cell_type": "markdown",
   "metadata": {},
   "source": [
    "Something is definitely getting learned!"
   ]
  },
  {
   "cell_type": "markdown",
   "metadata": {},
   "source": [
    "### Next steps:\n",
    "Try changing the number of hidden units or the embedding size and see what happens to your results."
   ]
  }
 ],
 "metadata": {
  "kernelspec": {
   "display_name": "Python 3",
   "language": "python",
   "name": "python3"
  },
  "language_info": {
   "codemirror_mode": {
    "name": "ipython",
    "version": 3
   },
   "file_extension": ".py",
   "mimetype": "text/x-python",
   "name": "python",
   "nbconvert_exporter": "python",
   "pygments_lexer": "ipython3",
   "version": "3.6.3"
  }
 },
 "nbformat": 4,
 "nbformat_minor": 2
}
