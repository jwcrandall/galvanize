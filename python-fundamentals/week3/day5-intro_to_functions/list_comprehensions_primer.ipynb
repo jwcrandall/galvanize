{
 "cells": [
  {
   "cell_type": "markdown",
   "metadata": {},
   "source": [
    "# A primer on list comprehensions\n",
    "\n",
    "\n",
    "List comprehensions were created as a convenience.  They are a succinct way to wrap a function over an interable.\n",
    "\n",
    "For your reference here is a visual explaination of list comprehensions.\n",
    "\n",
    "   * http://treyhunner.com/2015/12/python-list-comprehensions-now-in-color\n",
    "\n",
    "## Goals\n",
    "\n",
    "  1. Understand how list comprehensions work and how they are related to for loops\n",
    "  2. Understand how to include conditions in list comprehensions\n",
    "  3. Be able to use a basic dictionary comprehension\n"
   ]
  },
  {
   "cell_type": "markdown",
   "metadata": {},
   "source": [
    "## Basic list comprehensions\n",
    "\n",
    "Recall the structure of a ```for``` loop"
   ]
  },
  {
   "cell_type": "code",
   "execution_count": 1,
   "metadata": {},
   "outputs": [
    {
     "name": "stdout",
     "output_type": "stream",
     "text": [
      "0\n",
      "1\n",
      "2\n",
      "3\n",
      "4\n"
     ]
    }
   ],
   "source": [
    "for x in range(5):\n",
    "    print(x)"
   ]
  },
  {
   "cell_type": "markdown",
   "metadata": {},
   "source": [
    "A very commmon set of operations is:\n",
    "\n",
    "   1. loop over an iteratble\n",
    "   2. do a something\n",
    "   3. store the result in an iterable\n",
    "   \n",
    "There are several iterables out there but lets use a list as the main example"
   ]
  },
  {
   "cell_type": "code",
   "execution_count": 2,
   "metadata": {},
   "outputs": [
    {
     "name": "stdout",
     "output_type": "stream",
     "text": [
      "[0, 1, 4, 9, 16]\n"
     ]
    }
   ],
   "source": [
    "result = []\n",
    "for i in range(5):\n",
    "    result.append(i**2)\n",
    "print(result)"
   ]
  },
  {
   "cell_type": "code",
   "execution_count": 3,
   "metadata": {},
   "outputs": [
    {
     "name": "stdout",
     "output_type": "stream",
     "text": [
      "[0, 1, 4, 9, 16]\n"
     ]
    }
   ],
   "source": [
    "result = ([i**2 for i in range(5)])\n",
    "print(result)"
   ]
  },
  {
   "cell_type": "markdown",
   "metadata": {},
   "source": [
    "We can also use builtin functions"
   ]
  },
  {
   "cell_type": "code",
   "execution_count": 4,
   "metadata": {},
   "outputs": [
    {
     "name": "stdout",
     "output_type": "stream",
     "text": [
      "[5, 4, 3, 2, 1, 0, 1, 2, 3, 4]\n"
     ]
    }
   ],
   "source": [
    "result = [abs(i) for i in range(-5,5)]\n",
    "print(result)"
   ]
  },
  {
   "cell_type": "markdown",
   "metadata": {},
   "source": [
    "-------------------------------- **TRY IT** --------------------------------\n",
    "\n",
    "**Create a range of values 1:20 (in feet) and convert them to meters (multiply by 0.3048)**"
   ]
  },
  {
   "cell_type": "code",
   "execution_count": null,
   "metadata": {
    "collapsed": true
   },
   "outputs": [],
   "source": []
  },
  {
   "cell_type": "markdown",
   "metadata": {},
   "source": [
    "## Adding Conditionals\n",
    "\n",
    "Recall that we can get back the even elements in a list with the following loop-conditional structure"
   ]
  },
  {
   "cell_type": "code",
   "execution_count": 5,
   "metadata": {},
   "outputs": [
    {
     "name": "stdout",
     "output_type": "stream",
     "text": [
      "[0, 2, 4, 6, 8]\n"
     ]
    }
   ],
   "source": [
    "evens = []\n",
    "for num in range(10):\n",
    "    if num % 2 == 0:\n",
    "        evens.append(num)\n",
    "print(evens)"
   ]
  },
  {
   "cell_type": "code",
   "execution_count": 6,
   "metadata": {},
   "outputs": [
    {
     "name": "stdout",
     "output_type": "stream",
     "text": [
      "[0, 2, 4, 6, 8]\n"
     ]
    }
   ],
   "source": [
    "evens = [num for num in range(10) if num % 2 == 0]\n",
    "print(evens)"
   ]
  },
  {
   "cell_type": "markdown",
   "metadata": {},
   "source": [
    "-------------------------------- **TRY IT** --------------------------------\n",
    "\n",
    "**Given the following list can you remove the empty strings?**"
   ]
  },
  {
   "cell_type": "code",
   "execution_count": 7,
   "metadata": {
    "collapsed": true
   },
   "outputs": [],
   "source": [
    "a = ['', 'fee', '', '', '', 'fi', '', '','foo', '', '', '', '', '', 'fum']"
   ]
  },
  {
   "cell_type": "markdown",
   "metadata": {},
   "source": [
    "## Dictionary Comprehensions (and zip)"
   ]
  },
  {
   "cell_type": "code",
   "execution_count": 8,
   "metadata": {},
   "outputs": [
    {
     "name": "stdout",
     "output_type": "stream",
     "text": [
      "[(1, 'a'), (2, 'b'), (3, 'c')]\n"
     ]
    }
   ],
   "source": [
    "## got two lists and you want to create a single list of tuples\n",
    "a1,a2 = [1,2,3],['a','b','c']\n",
    "a = zip(a1,a2)\n",
    "a = [i for i in a]\n",
    "print(a)"
   ]
  },
  {
   "cell_type": "code",
   "execution_count": 9,
   "metadata": {},
   "outputs": [
    {
     "name": "stdout",
     "output_type": "stream",
     "text": [
      "{0: 'a', 1: 'a', 2: 'a', 3: 'a', 4: 'a', 5: 'a', 6: 'a', 7: 'a', 8: 'a', 9: 'a'}\n",
      "{1: 'a', 2: 'b', 3: 'c'}\n"
     ]
    }
   ],
   "source": [
    "# simple dictionary comp\n",
    "result1 = {x:'a' for x in range(10)}\n",
    "print(result1)\n",
    "\n",
    "# dictionary comp from a tuple list\n",
    "result = {i:j for i,j in a}\n",
    "print(result)"
   ]
  },
  {
   "cell_type": "markdown",
   "metadata": {},
   "source": [
    "## Additional things to be aware of.... \n",
    "\n",
    "For those of you that got it and want more"
   ]
  },
  {
   "cell_type": "code",
   "execution_count": 10,
   "metadata": {},
   "outputs": [
    {
     "name": "stdout",
     "output_type": "stream",
     "text": [
      "[[41.0, 21.0, 11.0, 31.0], [21.0, 21.0, 21.0]]\n"
     ]
    }
   ],
   "source": [
    "## you can create comprehensions over nested structures\n",
    "\n",
    "x = [['40', '20', '10', '30'], ['20', '20', '20']]\n",
    "result = [[float(y)+1 for y in x] for x in x]\n",
    "print(result)"
   ]
  },
  {
   "cell_type": "code",
   "execution_count": 11,
   "metadata": {},
   "outputs": [
    {
     "name": "stdout",
     "output_type": "stream",
     "text": [
      "True\n"
     ]
    }
   ],
   "source": [
    "## there are map,lambda and filter equivalents for everthing in this notebook\n",
    "a = range(-4,4)\n",
    "b = [x**2 for x in a]\n",
    "c = list(map(lambda x: x**2, a))\n",
    "print(b==c)"
   ]
  },
  {
   "cell_type": "markdown",
   "metadata": {},
   "source": [
    "### list comprehensions are meant to\n",
    "\n",
    "   * **make things easier to read**\n",
    "   * make you life more convenient\n",
    "   * more pythonic"
   ]
  },
  {
   "cell_type": "code",
   "execution_count": null,
   "metadata": {
    "collapsed": true
   },
   "outputs": [],
   "source": []
  }
 ],
 "metadata": {
  "kernelspec": {
   "display_name": "Python 2",
   "language": "python",
   "name": "python2"
  },
  "language_info": {
   "codemirror_mode": {
    "name": "ipython",
    "version": 2
   },
   "file_extension": ".py",
   "mimetype": "text/x-python",
   "name": "python",
   "nbconvert_exporter": "python",
   "pygments_lexer": "ipython2",
   "version": "2.7.13"
  }
 },
 "nbformat": 4,
 "nbformat_minor": 2
}
